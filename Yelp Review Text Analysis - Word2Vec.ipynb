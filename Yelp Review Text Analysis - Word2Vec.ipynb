{
 "cells": [
  {
   "cell_type": "markdown",
   "metadata": {},
   "source": [
    "#Using Word2Vec to work with Yelp Review Text"
   ]
  },
  {
   "cell_type": "code",
   "execution_count": 37,
   "metadata": {
    "collapsed": true
   },
   "outputs": [],
   "source": [
    "import pandas as pd\n",
    "import sklearn as sk\n",
    "import numpy as np\n",
    "import time"
   ]
  },
  {
   "cell_type": "code",
   "execution_count": 57,
   "metadata": {
    "collapsed": false
   },
   "outputs": [],
   "source": [
    "#Read in review data\n",
    "\n",
    "## Commented this out; created a smaller csv to work with because my computer can't handle \n",
    "## reviews and business data simultaneously.\n",
    "\n",
    "reviews = pd.read_csv(\"data\\yelp_academic_dataset_review.csv\")\n",
    "#rvws = reviews.iloc[:5000,:]\n",
    "#rvws.to_csv(\"yelp_dataset_5k_review.csv\")\n",
    "\n",
    "#Below csv was created previously using the first 5,000 reviews. Once this is a working model we can expand it to a fuller dataset.\n",
    "#rvws = pd.read_csv(\"data\\yelp_dataset_5k_review.csv\")"
   ]
  },
  {
   "cell_type": "code",
   "execution_count": 58,
   "metadata": {
    "collapsed": false
   },
   "outputs": [
    {
     "data": {
      "text/html": [
       "<div>\n",
       "<table border=\"1\" class=\"dataframe\">\n",
       "  <thead>\n",
       "    <tr style=\"text-align: right;\">\n",
       "      <th></th>\n",
       "      <th>votes.cool</th>\n",
       "      <th>votes.funny</th>\n",
       "      <th>stars</th>\n",
       "      <th>votes.useful</th>\n",
       "    </tr>\n",
       "  </thead>\n",
       "  <tbody>\n",
       "    <tr>\n",
       "      <th>count</th>\n",
       "      <td>1569264.000000</td>\n",
       "      <td>1569264.000000</td>\n",
       "      <td>1569264.000000</td>\n",
       "      <td>1569264.00000</td>\n",
       "    </tr>\n",
       "    <tr>\n",
       "      <th>mean</th>\n",
       "      <td>0.594182</td>\n",
       "      <td>0.478886</td>\n",
       "      <td>3.742656</td>\n",
       "      <td>1.07162</td>\n",
       "    </tr>\n",
       "    <tr>\n",
       "      <th>std</th>\n",
       "      <td>1.617808</td>\n",
       "      <td>1.538368</td>\n",
       "      <td>1.311468</td>\n",
       "      <td>2.05166</td>\n",
       "    </tr>\n",
       "    <tr>\n",
       "      <th>min</th>\n",
       "      <td>0.000000</td>\n",
       "      <td>0.000000</td>\n",
       "      <td>1.000000</td>\n",
       "      <td>0.00000</td>\n",
       "    </tr>\n",
       "    <tr>\n",
       "      <th>25%</th>\n",
       "      <td>0.000000</td>\n",
       "      <td>0.000000</td>\n",
       "      <td>3.000000</td>\n",
       "      <td>0.00000</td>\n",
       "    </tr>\n",
       "    <tr>\n",
       "      <th>50%</th>\n",
       "      <td>0.000000</td>\n",
       "      <td>0.000000</td>\n",
       "      <td>4.000000</td>\n",
       "      <td>0.00000</td>\n",
       "    </tr>\n",
       "    <tr>\n",
       "      <th>75%</th>\n",
       "      <td>1.000000</td>\n",
       "      <td>0.000000</td>\n",
       "      <td>5.000000</td>\n",
       "      <td>1.00000</td>\n",
       "    </tr>\n",
       "    <tr>\n",
       "      <th>max</th>\n",
       "      <td>137.000000</td>\n",
       "      <td>141.000000</td>\n",
       "      <td>5.000000</td>\n",
       "      <td>166.00000</td>\n",
       "    </tr>\n",
       "  </tbody>\n",
       "</table>\n",
       "</div>"
      ],
      "text/plain": [
       "           votes.cool     votes.funny           stars   votes.useful\n",
       "count  1569264.000000  1569264.000000  1569264.000000  1569264.00000\n",
       "mean         0.594182        0.478886        3.742656        1.07162\n",
       "std          1.617808        1.538368        1.311468        2.05166\n",
       "min          0.000000        0.000000        1.000000        0.00000\n",
       "25%          0.000000        0.000000        3.000000        0.00000\n",
       "50%          0.000000        0.000000        4.000000        0.00000\n",
       "75%          1.000000        0.000000        5.000000        1.00000\n",
       "max        137.000000      141.000000        5.000000      166.00000"
      ]
     },
     "execution_count": 58,
     "metadata": {},
     "output_type": "execute_result"
    }
   ],
   "source": [
    "#It's a HUGE dataset, so let's make a smaller one to work with until we have everything figured out.\n",
    "#I've created a smaller one with the first 5,000 reviews.\n",
    "reviews.describe()"
   ]
  },
  {
   "cell_type": "code",
   "execution_count": 59,
   "metadata": {
    "collapsed": false
   },
   "outputs": [],
   "source": [
    "## To make things easier when trying to analyze the text, let's just look at restaurants. For that, we'll have to join the review\n",
    "## and business data. I'm also pulling the city and state so I can add location later on if I desire to.\n",
    "headers = ['categories','business_id','city','state']\n",
    "business = pd.read_csv(\"data\\yelp_academic_dataset_business.csv\", usecols = headers)\n"
   ]
  },
  {
   "cell_type": "code",
   "execution_count": 54,
   "metadata": {
    "collapsed": false
   },
   "outputs": [],
   "source": [
    "## Now that we have the data joined with the business information, we can narrow the dataset to just restaurants so that\n",
    "## the language we are looking for is more consistent. \n",
    "## (e.g. a good doctor review will have differnt language than a good restaurant review)\n",
    "\n",
    "reviews = pd.merge(reviews, business, on = 'business_id')\n",
    "cat = reviews['categories']\n",
    "rest = []\n",
    "\n",
    "for x in range(len(cat)):\n",
    "    if \"Restaurants\" in cat[x]:\n",
    "        rest.append(1)\n",
    "    else:\n",
    "        rest.append(0)\n",
    "\n",
    "reviews['restaurant'] = rest\n",
    "\n",
    "## This will modify our reviews DataFrame to only include business that fall into the \"restaurants\" category.\n",
    "reviews = reviews[reviews['restaurant'] == 1]\n",
    "reviews = reviews.reset_index(drop=True)"
   ]
  },
  {
   "cell_type": "code",
   "execution_count": 55,
   "metadata": {
    "collapsed": false
   },
   "outputs": [],
   "source": [
    "text = reviews[['text']]\n",
    "stars = reviews[['stars']]"
   ]
  },
  {
   "cell_type": "code",
   "execution_count": 56,
   "metadata": {
    "collapsed": false
   },
   "outputs": [
    {
     "data": {
      "text/plain": [
       "<matplotlib.figure.Figure at 0x167c914e0>"
      ]
     },
     "metadata": {},
     "output_type": "display_data"
    },
    {
     "data": {
      "image/png": "[encoded data removed]",
      "text/plain": [
       "<matplotlib.figure.Figure at 0x167c91160>"
      ]
     },
     "metadata": {},
     "output_type": "display_data"
    }
   ],
   "source": [
    "import seaborn as sns\n",
    "from matplotlib import pyplot as plt\n",
    "%matplotlib inline\n",
    "\n",
    "sns.set_style('darkgrid')\n",
    "plt.figure(figsize=(12,6))\n",
    "ax = stars.hist(color='red', alpha=0.5, bins = 30)"
   ]
  },
  {
   "cell_type": "code",
   "execution_count": 18,
   "metadata": {
    "collapsed": false
   },
   "outputs": [
    {
     "name": "stdout",
     "output_type": "stream",
     "text": [
      "             stars\n",
      "count  3307.000000\n",
      "mean      3.612035\n",
      "std       1.258635\n",
      "min       1.000000\n",
      "25%       3.000000\n",
      "50%       4.000000\n",
      "75%       5.000000\n",
      "max       5.000000\n"
     ]
    }
   ],
   "source": [
    "print stars.describe()"
   ]
  },
  {
   "cell_type": "markdown",
   "metadata": {},
   "source": [
    "### Let's work with the text to make it into something that can be fitted by Word2Vec. To save time, skip this and load the vectors in the next section."
   ]
  },
  {
   "cell_type": "code",
   "execution_count": null,
   "metadata": {
    "collapsed": true
   },
   "outputs": [],
   "source": []
  },
  {
   "cell_type": "code",
   "execution_count": 12,
   "metadata": {
    "collapsed": true
   },
   "outputs": [],
   "source": [
    "## Import necessary libraries and define function that will make text all lower case and remove stop words.\n",
    "\n",
    "import re\n",
    "from nltk.corpus import stopwords\n",
    "from gensim.models import Word2Vec\n",
    "from sklearn.metrics import roc_curve, auc\n",
    "\n",
    "def review_to_wordlist(review, remove_stopwords=False):\n",
    "    # Function to convert a document to a sequence of words,\n",
    "    # optionally removing stop words.  Returns a list of words.\n",
    "\n",
    "    review_text = review   \n",
    "    \n",
    "    # 1. Remove non-letters\n",
    "    review_text = re.sub(\"[^a-zA-Z]\",\" \", review_text)\n",
    "\n",
    "    # 2. Convert words to lower case and split them\n",
    "    words = review_text.lower().split()\n",
    "\n",
    "    # 4. Optionally remove stop words (false by default)\n",
    "    if remove_stopwords:\n",
    "        stops = set(stopwords.words(\"english\"))\n",
    "        words = [w for w in words if not w in stops]\n",
    "\n",
    "    # 5. Return a list of words\n",
    "    return(words)"
   ]
  },
  {
   "cell_type": "code",
   "execution_count": null,
   "metadata": {
    "collapsed": true
   },
   "outputs": [],
   "source": [
    "tokenizer = nltk.data.load(\"tokenizers/punkt/english.pickle\")\n",
    "sentences = tokenizer.tokenize(train[\"review\"][0])\n",
    "print sentences[0], \"\\n\"\n",
    "print sentences[1]"
   ]
  },
  {
   "cell_type": "code",
   "execution_count": null,
   "metadata": {
    "collapsed": true
   },
   "outputs": [],
   "source": [
    "def review_to_sentences(review, tokenizer, remove_stopwords=False):\n",
    "    # Function to split a review into parsed sentences. Returns a \n",
    "    # list of sentences, where each sentence is a list of words\n",
    "\n",
    "    # 1. Use the NLTK tokenizer to split the paragraph into sentences\n",
    "    raw_sentences = tokenizer.tokenize(review.strip())\n",
    "\n",
    "    # 2. Loop over each sentence\n",
    "    sentences = []\n",
    "    for raw_sentence in raw_sentences:\n",
    "        # If a sentence is empty, skip it\n",
    "        if len(raw_sentence) > 0:\n",
    "            # Otherwise, call review_to_wordlist to get a list o`f words\n",
    "            sentences.append( review_to_wordlist( raw_sentence, remove_stopwords ))\n",
    "\n",
    "    # Return the list of sentences (each sentence is a list of words,\n",
    "    # so this returns a list of lists\n",
    "    return sentences"
   ]
  },
  {
   "cell_type": "code",
   "execution_count": 14,
   "metadata": {
    "collapsed": false
   },
   "outputs": [],
   "source": [
    "%%time\n",
    "\n",
    "sentences = []\n",
    "\n",
    "print \"Parsing sentences from training set\"\n",
    "for text in reviews[\"text\"]:\n",
    "    try:\n",
    "        sentences += review_to_sentences(review, tokenizer)\n",
    "    except Exception as e:\n",
    "        print \"Execption raised:\", e\n"
   ]
  },
  {
   "cell_type": "code",
   "execution_count": null,
   "metadata": {
    "collapsed": true
   },
   "outputs": [],
   "source": [
    "%%time\n",
    "# Set values for various Word2Vec parameters\n",
    "num_features = 100    # Word vector dimensionality                      \n",
    "min_word_count = 40   # Minimum word count                        \n",
    "num_workers = 4       # Number of threads to run in parallel\n",
    "context = 10          # Context window size                                                                                    \n",
    "downsampling = 1e-3   # Downsample setting for frequent words\n",
    "\n",
    "# Initialize and train the model. This might take some time.\n",
    "print \"Training model...\"\n",
    "model = Word2Vec(sentences, workers=num_workers, \\\n",
    "            size=num_features, min_count = min_word_count, \\\n",
    "            window = context, sample = downsampling)"
   ]
  },
  {
   "cell_type": "code",
   "execution_count": null,
   "metadata": {
    "collapsed": true
   },
   "outputs": [],
   "source": [
    "## Save the model to a .bin file so it can easily be re-loaded for future use\n",
    "model.save(\"yelpReviews-vectors-100.bin\")\n",
    "model.init_sims(replace=True)"
   ]
  },
  {
   "cell_type": "markdown",
   "metadata": {},
   "source": [
    "### Uncomment below to load vectors"
   ]
  },
  {
   "cell_type": "code",
   "execution_count": null,
   "metadata": {
    "collapsed": true
   },
   "outputs": [],
   "source": [
    "## Uncomment the below line to import word2vec vectors which was created on Yelp review text for restaurants\n",
    "# model = Word2Vec.load_word2vec_format(models\\yelpReviews-vectors-100.bin', binary=True)\n",
    "\n",
    "## Alternatively, you can use the google vectors generated from Google News:\n",
    "#model = Word2Vec.load_word2vec_format('data\\GoogleNews-vectors-negative300.bin', binary=True)"
   ]
  },
  {
   "cell_type": "code",
   "execution_count": null,
   "metadata": {
    "collapsed": true
   },
   "outputs": [],
   "source": [
    "## Define a function that will average all of the vectors in a given review, to account for varying lengths of each review\n",
    "def get_avg_vec(words, model, num_features):\n",
    "\n",
    "    # Pre-initialize an empty numpy array (for speed)\n",
    "    feature_vec = np.zeros((num_features,),dtype=\"float32\")\n",
    "\n",
    "    nwords = 0.\n",
    "\n",
    "    # Index2word is a list that contains the names of the words in \n",
    "    # the model's vocabulary. Convert it to a set, for speed \n",
    "    index2word_set = set(model.index2word)\n",
    "\n",
    "    # Loop over each word in the review and, if it is in the model's\n",
    "    # vocaublary, add its feature vector to the total\n",
    "    for word in words:\n",
    "        if word in index2word_set: \n",
    "            nwords = nwords + 1.\n",
    "            feature_vec = np.add(feature_vec, model[word])\n",
    "\n",
    "    # Divide the result by the number of words to get the average\n",
    "    feature_vec = np.divide(feature_vec, nwords)\n",
    "    \n",
    "    return feature_vec"
   ]
  },
  {
   "cell_type": "code",
   "execution_count": 40,
   "metadata": {
    "collapsed": false
   },
   "outputs": [
    {
     "name": "stdout",
     "output_type": "stream",
     "text": [
      "[array([ -1.24879330e-02,   1.62466709e-02,   6.19000988e-03,\n",
      "         5.51948994e-02,  -1.55467466e-02,  -8.10502563e-03,\n",
      "         1.36002917e-02,  -1.89857949e-02,   2.92995535e-02,\n",
      "         4.08151224e-02,  -5.09202946e-03,  -3.47345397e-02,\n",
      "         2.11036392e-03,  -1.15223108e-02,  -3.66390683e-02,\n",
      "         2.97466405e-02,   1.45018363e-04,   3.65637653e-02,\n",
      "         8.21500609e-04,  -1.50255077e-02,  -2.03647278e-03,\n",
      "         1.52606452e-02,   2.47699395e-02,  -5.80853026e-04,\n",
      "         1.43288653e-02,  -1.90452654e-02,  -3.30012329e-02,\n",
      "         3.14831324e-02,   2.49893218e-03,  -5.83657390e-03,\n",
      "        -1.31177539e-02,   1.38138998e-02,   4.00991784e-03,\n",
      "        -4.60440153e-03,  -1.03783095e-03,   2.70899129e-03,\n",
      "         2.54246294e-02,  -3.15923546e-03,   1.12307984e-02,\n",
      "         3.02048139e-02,   2.72526182e-02,  -3.93570103e-02,\n",
      "         5.63304499e-02,  -4.53120656e-03,   3.38027813e-03,\n",
      "        -1.48360012e-02,  -2.97581255e-02,   3.73258675e-03,\n",
      "         3.57741653e-03,   2.49910611e-03,  -9.14052967e-03,\n",
      "         1.86724328e-02,  -5.24443015e-03,  -8.38871393e-03,\n",
      "        -4.10665711e-03,  -2.08802783e-04,   7.33437657e-04,\n",
      "        -1.27087869e-02,   1.38310706e-02,  -1.95046309e-02,\n",
      "        -3.82655784e-02,   2.06900965e-02,  -4.33526151e-02,\n",
      "        -2.93117780e-02,  -2.31670309e-03,  -2.41940990e-02,\n",
      "        -3.18956599e-02,   1.41686071e-02,  -1.04241241e-02,\n",
      "         2.46012397e-02,   3.62180136e-02,   3.95323662e-03,\n",
      "         4.31561098e-02,   1.55554665e-02,  -7.26340413e-02,\n",
      "        -1.89003460e-02,  -8.30817502e-03,   1.65331643e-02,\n",
      "        -1.72337727e-03,   1.77730955e-02,   1.34939272e-02,\n",
      "        -2.60772761e-02,   2.21746862e-02,  -1.87053736e-02,\n",
      "        -7.26492004e-03,  -1.84497274e-02,  -3.42491306e-02,\n",
      "         4.51157205e-02,   7.79657904e-03,  -1.28211593e-02,\n",
      "         5.49703278e-03,  -7.41855125e-04,  -2.09561791e-02,\n",
      "        -2.06956752e-02,  -2.52771433e-02,  -3.03324629e-02,\n",
      "         8.18646571e-04,   1.21295685e-02,   1.03587788e-02,\n",
      "        -2.84445435e-02,  -1.72053389e-02,  -1.31666586e-02,\n",
      "         1.31492950e-02,   1.47273699e-02,  -8.79768562e-03,\n",
      "        -1.89555995e-02,   8.72432627e-03,  -1.42604942e-02,\n",
      "         4.58088703e-03,  -2.31860615e-02,  -4.72208904e-03,\n",
      "        -6.29103743e-03,   3.82946106e-04,  -1.47676338e-02,\n",
      "         2.89212652e-02,  -1.05107734e-02,   2.99831312e-02,\n",
      "        -9.60774440e-03,   1.98597107e-02,   1.06847445e-02,\n",
      "        -3.78272012e-02,  -5.08543162e-04,  -9.85324103e-03,\n",
      "         1.30738877e-02,  -1.16743601e-03,  -3.78521858e-03,\n",
      "        -1.37698166e-02,  -1.49586890e-02,   3.80560523e-03,\n",
      "         1.76722538e-02,  -2.54320018e-02,  -2.84735486e-02,\n",
      "        -4.85016918e-03,   1.77591350e-02,  -3.33362333e-02,\n",
      "         4.26759524e-03,   2.92780530e-02,  -1.14833086e-03,\n",
      "         1.98444519e-02,   4.39979956e-02,   9.92467627e-03,\n",
      "        -1.97352711e-02,   6.82102423e-03,  -1.72441583e-02,\n",
      "        -2.06923904e-03,   2.19365172e-02,  -2.17926726e-02,\n",
      "        -2.56507993e-02,  -2.43076533e-02,   3.27194133e-03,\n",
      "         2.22832430e-02,   1.94947124e-02,  -5.01211584e-02,\n",
      "         2.62713078e-02,  -7.83645175e-03,  -1.63105987e-02,\n",
      "        -1.49502233e-02,  -1.41628440e-02,  -5.60401082e-02,\n",
      "         8.74098111e-03,  -1.88703965e-02,   1.59145817e-02,\n",
      "         2.25175396e-02,   1.57520100e-02,   1.25664230e-02,\n",
      "        -4.00829688e-02,   9.55263432e-03,  -7.09740818e-03,\n",
      "         7.10493978e-03,  -2.04794928e-02,  -5.51348776e-02,\n",
      "         3.09693787e-05,  -1.03216378e-04,  -2.08989158e-02,\n",
      "        -3.96398455e-02,  -8.39120429e-03,   3.86246890e-02,\n",
      "        -8.22805916e-04,  -2.90812110e-04,   2.39347257e-02,\n",
      "        -2.06886008e-02,  -4.18519601e-02,   8.29256698e-03,\n",
      "         1.05295656e-02,   5.89389773e-03,  -1.87151041e-02,\n",
      "        -9.49401036e-03,   1.33290505e-02,   2.25105267e-02,\n",
      "         6.24693837e-03,  -4.93224431e-03,   1.85310356e-02,\n",
      "         7.46194972e-03,  -7.73789827e-03,  -2.15826258e-02,\n",
      "         2.30344180e-02,  -2.47806963e-03,  -5.12515334e-03,\n",
      "        -3.87445018e-02,  -3.63240056e-02,   3.44988168e-03,\n",
      "         3.11959349e-02,  -9.90527589e-03,  -1.27116060e-02,\n",
      "         2.12732535e-02,  -2.20639184e-02,  -9.80047602e-03,\n",
      "        -1.06318742e-02,   9.19599272e-03,  -1.03545180e-02,\n",
      "        -1.93005521e-02,   2.30852254e-02,  -2.51001958e-02,\n",
      "         2.43846849e-02,  -3.01310625e-02,   5.97682549e-03,\n",
      "         4.05651480e-02,   5.00151364e-04,  -3.59308347e-02,\n",
      "        -8.56686663e-03,   3.45215457e-03,   6.65939227e-03,\n",
      "         1.65839843e-03,  -7.93847069e-03,   3.11088618e-02,\n",
      "        -2.59612277e-02,   1.94791723e-02,   5.44559443e-03,\n",
      "        -3.86402756e-03,  -6.74842764e-03,   1.57739688e-02,\n",
      "        -1.59006752e-02,   5.73525764e-03,  -8.43127351e-03,\n",
      "         2.22456940e-02,  -1.89786498e-02,   1.07444106e-02,\n",
      "        -1.43809253e-02,   2.05908176e-02,   2.37547811e-02,\n",
      "         3.36419865e-02,   1.60242300e-02,  -5.02947625e-03,\n",
      "        -4.29744944e-02,  -5.54465549e-03,  -2.05391413e-03,\n",
      "         5.90351690e-03,   2.53066681e-02,   1.29100857e-02,\n",
      "        -6.86463807e-03,  -2.06211070e-03,   2.47891638e-02,\n",
      "         4.09064330e-02,   1.00884698e-02,   2.42201313e-02,\n",
      "        -3.17692906e-02,   4.33228503e-04,  -2.32061837e-03,\n",
      "        -2.44356710e-02,  -2.21765656e-02,   9.09811817e-03,\n",
      "         8.40957649e-03,  -1.70204230e-02,  -1.74178730e-03,\n",
      "         6.27791556e-03,   2.69153751e-02,  -6.02651807e-03,\n",
      "        -6.92452770e-04,  -3.04674357e-02,   6.11933693e-03,\n",
      "         3.59885022e-03,   3.05632334e-02,   3.22667882e-02,\n",
      "         1.81551576e-02,   3.38429697e-02,  -2.63493191e-02,\n",
      "        -1.62976887e-02,  -3.72936800e-02,  -1.57702807e-02,\n",
      "        -9.41328879e-04,   1.00910002e-02,   1.37808546e-03,\n",
      "        -6.91182585e-03,   4.28311117e-02,  -2.86629982e-03,\n",
      "        -1.42340478e-03,  -3.81972641e-02,   1.51296202e-02,\n",
      "        -9.28814709e-03,   3.32712606e-02,  -1.54350167e-02,\n",
      "        -4.08487208e-03,  -4.16006669e-02,   1.73056312e-02,\n",
      "         4.26526135e-03,  -9.31681693e-03,  -4.51848144e-03,\n",
      "        -2.06169784e-02,   1.26673812e-02,  -1.03467507e-02], dtype=float32), array([ -2.85152290e-02,  -2.06124154e-03,   4.84992713e-02,\n",
      "         6.98395744e-02,  -2.20392477e-02,   2.59677321e-02,\n",
      "        -6.70465035e-03,   3.46015929e-03,   3.68847214e-02,\n",
      "         2.97540966e-02,   7.65040750e-03,  -5.81320673e-02,\n",
      "         7.40380352e-03,  -9.88874864e-03,  -2.81585008e-02,\n",
      "         5.39442487e-02,  -2.19397843e-02,   1.02933329e-02,\n",
      "         7.53315585e-03,  -4.31061126e-02,   3.41759622e-03,\n",
      "         1.19439885e-02,   5.50348021e-04,   9.91534442e-03,\n",
      "        -4.58735367e-03,  -3.87376756e-03,  -2.55028587e-02,\n",
      "         4.04702872e-02,   6.32430390e-02,  -3.48204635e-02,\n",
      "        -2.53014769e-02,  -4.96517541e-03,   1.13825239e-02,\n",
      "        -2.62324642e-02,  -4.68345312e-03,   1.65774822e-02,\n",
      "         3.13323247e-03,   7.07585411e-03,   3.09781358e-02,\n",
      "         4.32442687e-02,   2.32375581e-02,  -2.20204461e-02,\n",
      "         4.24916707e-02,   6.95228577e-04,  -2.98756268e-02,\n",
      "         5.58561645e-03,   6.36735291e-04,  -7.41263526e-03,\n",
      "         2.99524795e-02,   4.28585820e-02,  -1.45356571e-02,\n",
      "         5.69855981e-02,   3.35341953e-02,  -2.07843501e-02,\n",
      "        -2.49657724e-02,  -1.75767262e-02,   1.41034862e-02,\n",
      "        -2.22903434e-02,   3.65425237e-02,  -3.53557244e-02,\n",
      "        -4.16050442e-02,   1.42857926e-02,  -2.01466251e-02,\n",
      "        -1.04526030e-02,   2.27353275e-02,  -4.03774567e-02,\n",
      "        -6.71687126e-02,  -1.66772753e-02,  -2.97201872e-02,\n",
      "         4.36811633e-02,   3.94653939e-02,   1.08631058e-02,\n",
      "         3.34851891e-02,   3.29463743e-02,  -7.85154775e-02,\n",
      "        -2.77106706e-02,  -4.94161360e-02,   1.74097356e-03,\n",
      "        -4.28472413e-03,  -1.16057247e-02,  -2.60215029e-02,\n",
      "        -7.97344651e-03,   2.99404133e-02,  -5.07059805e-02,\n",
      "         4.66915704e-02,   8.94142035e-03,  -2.45545823e-02,\n",
      "         1.72246117e-02,   1.91078242e-02,  -3.34968008e-02,\n",
      "         1.28548779e-03,   4.39003343e-03,  -4.33877669e-03,\n",
      "        -2.14982014e-02,  -3.61517258e-02,  -6.19503371e-02,\n",
      "         1.96400136e-02,   1.75647438e-05,   8.43987509e-04,\n",
      "        -1.85478646e-02,  -2.26044748e-02,   4.29822095e-02,\n",
      "         4.38065780e-03,   1.39801838e-02,  -2.09683087e-02,\n",
      "        -2.50188485e-02,   2.79462710e-02,  -1.84814893e-02,\n",
      "         6.71399117e-04,  -1.95187423e-02,   1.54427878e-04,\n",
      "        -3.03714704e-02,  -2.52641737e-02,  -5.01477532e-03,\n",
      "         4.20891494e-02,  -3.95595469e-02,   3.22440453e-02,\n",
      "        -4.11795639e-02,  -1.44618573e-02,  -4.14504409e-02,\n",
      "        -8.55210610e-03,  -1.19276894e-02,  -6.43370347e-03,\n",
      "         1.47700040e-02,   2.87469593e-03,  -2.87200157e-02,\n",
      "        -2.17142422e-03,  -9.32906475e-03,  -2.28672922e-02,\n",
      "        -4.09932807e-03,  -4.74557690e-02,  -2.34934259e-02,\n",
      "        -9.13470890e-03,   2.22036019e-02,  -1.81573499e-02,\n",
      "        -1.86863858e-02,   9.16578714e-03,   1.28468610e-02,\n",
      "         3.44023295e-02,   5.07085212e-02,   4.78913747e-02,\n",
      "        -3.30096446e-02,  -2.48837192e-02,   1.28278136e-03,\n",
      "        -8.55297130e-03,  -5.07564582e-05,  -2.01000739e-02,\n",
      "        -1.78492442e-03,  -1.06988167e-02,  -3.36375949e-03,\n",
      "         2.55178232e-02,   3.50344665e-02,  -6.75310344e-02,\n",
      "         6.41715229e-02,   1.20178824e-02,  -2.38094348e-02,\n",
      "         1.07893273e-02,  -2.42146254e-02,  -7.26572052e-02,\n",
      "        -2.61223372e-02,  -3.61584760e-02,   1.22576058e-02,\n",
      "        -1.05130663e-02,   4.54705348e-03,   2.54746154e-02,\n",
      "        -3.57655846e-02,   2.19401401e-02,  -5.62293828e-02,\n",
      "        -3.54037732e-02,  -5.80051402e-03,  -7.53584579e-02,\n",
      "        -6.74164062e-03,  -5.86483860e-03,  -1.51817426e-02,\n",
      "        -7.13745579e-02,   5.77168167e-03,   5.78746051e-02,\n",
      "         9.29513306e-04,  -1.46143250e-02,   7.49031221e-03,\n",
      "        -2.38675047e-02,  -7.51199052e-02,   1.59520302e-02,\n",
      "         3.49020562e-03,  -1.97911803e-02,  -1.22960834e-02,\n",
      "        -4.41295654e-03,   2.65513882e-02,   2.09880080e-02,\n",
      "         1.52229527e-02,  -8.33621621e-03,   3.00963279e-02,\n",
      "        -2.50923564e-03,   1.67309102e-02,   1.91914793e-02,\n",
      "         2.00156290e-02,   1.27842501e-02,  -1.32156275e-02,\n",
      "        -6.38081208e-02,  -4.89493906e-02,  -1.13519728e-02,\n",
      "         1.66547541e-02,  -1.82768907e-02,   3.31104398e-02,\n",
      "         1.14701688e-04,  -3.04218531e-02,   8.01735278e-03,\n",
      "        -1.36432732e-02,  -1.32720417e-03,  -8.50210804e-03,\n",
      "        -2.44168434e-02,   6.03630878e-02,  -4.29881811e-02,\n",
      "         6.52525062e-03,  -4.99842726e-02,   1.03171347e-02,\n",
      "         3.53073291e-02,  -3.41918804e-02,  -1.61227789e-02,\n",
      "        -2.30763480e-02,   2.67748442e-03,  -1.00564053e-02,\n",
      "         9.79989022e-03,   3.41357780e-03,   2.46010218e-02,\n",
      "        -3.44757289e-02,  -4.35782917e-04,   1.87046733e-02,\n",
      "        -2.52802204e-02,   2.09997594e-03,   4.99624908e-02,\n",
      "        -2.62405034e-02,   3.20986821e-03,  -5.92593744e-04,\n",
      "         3.95268612e-02,  -4.75508831e-02,   3.63944583e-02,\n",
      "        -4.55666287e-03,   3.86041892e-03,   3.52744162e-02,\n",
      "         4.07223850e-02,  -1.71356543e-03,  -1.21607659e-02,\n",
      "        -6.84183538e-02,   8.92127398e-03,   2.40044878e-03,\n",
      "        -1.17615052e-02,   2.86280215e-02,  -2.08429247e-03,\n",
      "        -2.91308668e-02,   3.56614739e-02,  -1.85436290e-02,\n",
      "         4.27680425e-02,  -1.00613637e-02,   4.05666418e-02,\n",
      "        -6.05653264e-02,   1.40524805e-02,   1.52855786e-02,\n",
      "        -2.42002979e-02,  -2.26025116e-02,   1.82666760e-02,\n",
      "         3.89007740e-02,   3.76827153e-03,  -1.11581860e-02,\n",
      "         1.27545698e-02,  -5.99776208e-03,  -2.92575061e-02,\n",
      "         2.48165261e-02,   5.27811423e-03,  -4.60011251e-02,\n",
      "        -2.40035113e-02,   4.89809215e-02,   1.33189904e-02,\n",
      "         3.45586091e-02,   7.24534765e-02,  -3.71981226e-02,\n",
      "        -3.99921127e-02,  -3.66248265e-02,  -2.35398915e-02,\n",
      "        -4.88362322e-03,   2.15809848e-02,  -5.56477485e-03,\n",
      "         2.22619269e-02,   4.57219779e-02,  -2.80551687e-02,\n",
      "         9.30426177e-03,  -6.03941418e-02,   2.67010387e-02,\n",
      "        -5.62772714e-03,   1.02524729e-02,   4.10999767e-02,\n",
      "        -5.68164745e-03,  -2.78095696e-02,  -2.93642911e-03,\n",
      "         2.76375446e-03,  -1.33755906e-02,  -2.49397997e-02,\n",
      "        -2.30787490e-02,   1.32238604e-02,  -6.73360610e-03], dtype=float32), array([ 0.0042246 ,  0.02884761, -0.00628188,  0.04528604, -0.01800642,\n",
      "       -0.00111714,  0.01451848, -0.02102939,  0.01436745,  0.0345228 ,\n",
      "       -0.01085439, -0.04632523, -0.00082024,  0.003679  , -0.04055585,\n",
      "        0.0408216 ,  0.01693948,  0.04523606,  0.00116053, -0.02541897,\n",
      "       -0.01423721,  0.02205627,  0.01412724,  0.00074369,  0.010613  ,\n",
      "       -0.01175278, -0.02799278,  0.0245441 ,  0.01354827, -0.0048869 ,\n",
      "       -0.0319254 ,  0.02205631,  0.00312062, -0.00384393,  0.00736262,\n",
      "       -0.01581884,  0.01674288, -0.00801711,  0.00957875,  0.03237735,\n",
      "        0.03715707, -0.02909002,  0.04949061,  0.00711014, -0.0036895 ,\n",
      "       -0.02374281, -0.00874928,  0.00559136,  0.00188345,  0.00672015,\n",
      "       -0.01520983,  0.02701512, -0.00062327, -0.01088747, -0.0048948 ,\n",
      "        0.00633651, -0.00474066, -0.02899769,  0.01669224, -0.04001441,\n",
      "       -0.01955525,  0.02583717, -0.04083632, -0.02361823,  0.01393108,\n",
      "       -0.01860411, -0.02527794,  0.01025765, -0.0199689 ,  0.0132021 ,\n",
      "        0.03412614,  0.00416695,  0.03672808,  0.00655027, -0.06724631,\n",
      "       -0.02832706,  0.00741824,  0.03158889,  0.00475506,  0.03571686,\n",
      "       -0.00237586, -0.02367209,  0.01989754, -0.00174167, -0.01878617,\n",
      "       -0.02386757, -0.03556709,  0.05180115,  0.01135193,  0.00397736,\n",
      "        0.02377437,  0.01516775, -0.03202867, -0.02567611, -0.02351421,\n",
      "       -0.02988221,  0.01726337,  0.01262621, -0.0043151 , -0.01665338,\n",
      "       -0.02532569,  0.00054125,  0.00710788,  0.00956522, -0.01517659,\n",
      "       -0.02029195,  0.00239528, -0.01434249,  0.00750597, -0.02232795,\n",
      "       -0.01659421, -0.00161548, -0.00505353, -0.0174564 ,  0.04015784,\n",
      "       -0.0031453 ,  0.03001583, -0.01899264,  0.01093322,  0.01427142,\n",
      "       -0.03829228,  0.00993713, -0.00443594,  0.03469607, -0.00750007,\n",
      "       -0.00460396, -0.01235818, -0.01260913,  0.00298712,  0.00761782,\n",
      "       -0.03314884, -0.02481465, -0.01657731,  0.01449225, -0.0212028 ,\n",
      "       -0.00958643,  0.01864805,  0.00582219,  0.0077058 ,  0.03097228,\n",
      "        0.01761548, -0.02621487,  0.01834146, -0.00040405,  0.00225318,\n",
      "        0.0086155 , -0.01949161, -0.01635387, -0.02439008, -0.01461181,\n",
      "        0.01768966,  0.02429913, -0.04506189,  0.03000603, -0.01920332,\n",
      "       -0.01716536, -0.01462272, -0.02176528, -0.04996427, -0.00502068,\n",
      "       -0.01604984,  0.02980387,  0.0095969 ,  0.01713721,  0.02586322,\n",
      "       -0.03680177,  0.01145042, -0.02340674,  0.01119072, -0.0203292 ,\n",
      "       -0.06887922,  0.00098523, -0.00116719, -0.01933691, -0.01556098,\n",
      "       -0.00122022,  0.02590244, -0.02678148, -0.01065231,  0.02308562,\n",
      "       -0.03422283, -0.03535282,  0.01071025,  0.00438178, -0.01616059,\n",
      "       -0.0200352 , -0.01709076,  0.01117613,  0.01479222,  0.00303677,\n",
      "        0.00765951,  0.00692926,  0.01214327, -0.00765281, -0.00895202,\n",
      "        0.01177641,  0.00104178, -0.00424667, -0.04297982, -0.02981804,\n",
      "        0.01148631,  0.02788944, -0.01805642, -0.00306138,  0.00747564,\n",
      "       -0.0133087 , -0.01516432, -0.00998137,  0.00684035,  0.00585839,\n",
      "       -0.01246907,  0.04119324, -0.02090241,  0.01595491, -0.02824123,\n",
      "        0.01303944,  0.03711957,  0.00267774, -0.02530396,  0.00062437,\n",
      "        0.00059886,  0.00453337, -0.01549288, -0.00447618,  0.02543976,\n",
      "       -0.01690459,  0.00433308,  0.00846514,  0.00109124,  0.00442529,\n",
      "        0.00161929, -0.01834181,  0.0106071 ,  0.01276897,  0.02141898,\n",
      "       -0.00806119,  0.00400456, -0.03161622,  0.02186822,  0.00826112,\n",
      "        0.03603289,  0.00976017,  0.01004736, -0.04033966, -0.00758095,\n",
      "        0.00488312,  0.00488997,  0.00389936, -0.0058072 , -0.02797207,\n",
      "       -0.00922896,  0.0278946 ,  0.02887537,  0.01818142,  0.03365069,\n",
      "       -0.02175291,  0.00730831,  0.00603053, -0.02848276, -0.02105061,\n",
      "       -0.00343217, -0.00207618, -0.02498886, -0.00206483,  0.02117145,\n",
      "        0.0322957 , -0.01038178, -0.01130882, -0.02747814, -0.00279252,\n",
      "        0.00502949,  0.04753962,  0.04574709,  0.01405297,  0.01866664,\n",
      "       -0.02454728, -0.02084356, -0.04345674, -0.01884486, -0.00602943,\n",
      "       -0.00105628, -0.00590631,  0.00449598,  0.03487227, -0.00208199,\n",
      "        0.00537206, -0.03976075, -0.00220966, -0.00510512,  0.03098583,\n",
      "       -0.02107867,  0.00970322, -0.04119722,  0.01472426, -0.012204  ,\n",
      "       -0.00810476,  0.00745586, -0.02455629,  0.01680371, -0.01526648], dtype=float32), array([ -1.12579139e-02,   3.97036783e-02,   7.01737218e-03,\n",
      "         4.63395603e-02,  -1.69477053e-02,  -7.00026518e-03,\n",
      "         1.44928945e-02,  -3.31117064e-02,   2.11140774e-02,\n",
      "         4.19144966e-02,   7.10539427e-03,  -4.40752022e-02,\n",
      "        -7.40941241e-03,  -1.05585642e-02,  -2.70514246e-02,\n",
      "         2.94323545e-02,   2.10163165e-02,   4.48197201e-02,\n",
      "         5.31593896e-03,  -2.63188314e-02,   8.65016412e-03,\n",
      "         1.25027308e-02,   1.90820768e-02,  -1.31081818e-02,\n",
      "         6.80087833e-03,  -1.02323573e-02,  -3.54154184e-02,\n",
      "         3.55982222e-02,   1.66097898e-02,  -1.69736389e-02,\n",
      "        -2.82006357e-02,   2.34609395e-02,   2.55468953e-02,\n",
      "         1.40258530e-02,  -8.44122935e-03,  -3.07989772e-04,\n",
      "         2.01859362e-02,  -1.21116033e-02,   1.01354886e-02,\n",
      "         4.05463241e-02,   2.27785087e-03,  -3.08297221e-02,\n",
      "         4.99721505e-02,   1.07696531e-02,  -6.09360682e-03,\n",
      "        -1.61671955e-02,  -2.69035771e-02,  -1.19043039e-02,\n",
      "        -2.05088872e-03,   1.16299400e-02,  -1.20300557e-02,\n",
      "         3.15154679e-02,   1.60714146e-02,  -1.79815535e-02,\n",
      "        -3.66462418e-03,  -1.30725130e-02,  -1.67627279e-02,\n",
      "        -1.67868678e-02,   1.71517916e-02,  -3.12652215e-02,\n",
      "        -3.01543679e-02,   1.30987931e-02,  -5.32732680e-02,\n",
      "        -3.52083743e-02,   7.58086005e-03,  -1.75015684e-02,\n",
      "        -2.39454359e-02,   9.21171668e-05,  -2.64437236e-02,\n",
      "         1.08822733e-02,   2.55626887e-02,   4.52689687e-03,\n",
      "         4.12151925e-02,   5.77469962e-03,  -5.69374114e-02,\n",
      "        -2.41315570e-02,  -1.12453625e-02,   1.12650013e-02,\n",
      "         9.71520599e-03,   5.95162390e-03,  -9.43820924e-03,\n",
      "        -3.09471190e-02,   1.52297327e-02,  -7.77028780e-03,\n",
      "        -3.19560356e-02,  -2.61139534e-02,  -2.76075341e-02,\n",
      "         4.44805026e-02,  -8.58555082e-03,   4.65013413e-03,\n",
      "         1.27688935e-02,  -7.96923507e-03,  -3.02506611e-02,\n",
      "        -5.30867577e-02,  -1.49918320e-02,  -1.05519611e-02,\n",
      "         6.63183536e-03,   6.56887051e-03,   1.45513564e-02,\n",
      "        -4.73430008e-02,  -1.81521866e-02,   3.19649000e-04,\n",
      "         1.76287703e-02,   1.42830359e-02,  -4.61445982e-03,\n",
      "        -1.29363164e-02,   7.13869883e-03,  -2.26400979e-02,\n",
      "        -1.05403354e-02,  -4.22260948e-02,  -2.13757064e-02,\n",
      "         1.32069811e-02,   4.38607950e-03,  -2.33897101e-02,\n",
      "         3.56903225e-02,  -2.01450661e-02,   2.14583669e-02,\n",
      "        -1.78733002e-02,   4.86996025e-03,   1.65242190e-03,\n",
      "        -3.47901396e-02,  -3.25204019e-05,  -8.15293193e-03,\n",
      "         1.82968583e-02,  -1.33104874e-02,  -1.41205527e-02,\n",
      "        -1.10207554e-02,  -3.21006328e-02,   1.11195236e-03,\n",
      "         6.39308617e-03,  -3.97071391e-02,  -3.85472924e-02,\n",
      "         1.94441550e-03,   1.71814263e-02,  -1.59748662e-02,\n",
      "        -1.13940956e-02,   2.85184607e-02,   3.16255470e-03,\n",
      "         1.38488226e-02,   3.97687592e-02,   4.99495259e-03,\n",
      "         1.88129523e-03,   1.56474505e-02,  -3.81418280e-02,\n",
      "        -1.91300102e-02,   1.12584969e-02,  -3.78633514e-02,\n",
      "         1.38044804e-02,  -2.01917682e-02,  -5.20192133e-03,\n",
      "         4.35892567e-02,   3.23027000e-02,  -4.77929674e-02,\n",
      "         2.52523366e-02,  -1.11776320e-02,  -1.39075471e-02,\n",
      "        -6.30425289e-03,  -1.60049349e-02,  -3.08535993e-02,\n",
      "        -1.24931084e-02,  -2.69626956e-02,   2.43617371e-02,\n",
      "        -5.66843897e-03,   1.52000738e-02,   1.83056667e-02,\n",
      "        -2.83018127e-02,   8.70253332e-03,  -1.58791952e-02,\n",
      "         1.33758818e-03,  -2.19479632e-02,  -4.91885655e-02,\n",
      "        -3.21940961e-03,   1.38542233e-02,  -2.77752392e-02,\n",
      "        -1.94904320e-02,   1.80850495e-02,   3.90366651e-02,\n",
      "        -1.66994426e-02,  -7.46935315e-04,   2.00632662e-02,\n",
      "        -1.10680657e-02,  -3.59805226e-02,   1.37799522e-02,\n",
      "        -2.23452151e-02,  -1.22100879e-02,  -1.44278863e-02,\n",
      "        -1.47452522e-02,   1.64826270e-02,   2.06722114e-02,\n",
      "        -4.56760451e-03,   5.26627009e-05,   3.30349170e-02,\n",
      "         4.08785697e-03,   1.78045072e-02,  -1.66643225e-02,\n",
      "         1.12857036e-02,  -1.31937573e-02,   8.60603526e-03,\n",
      "        -2.90559772e-02,  -5.20847440e-02,  -1.57248287e-03,\n",
      "         3.22930552e-02,  -2.42589172e-02,  -2.76344288e-02,\n",
      "         1.14421872e-02,  -1.57392379e-02,   5.01832413e-03,\n",
      "         6.85873860e-03,  -1.28985764e-02,   1.74911357e-02,\n",
      "        -1.33625241e-02,   3.68661098e-02,  -4.59009744e-02,\n",
      "         2.63676345e-02,  -3.03020030e-02,  -1.13393441e-02,\n",
      "         3.54037359e-02,   5.61286742e-03,  -2.21229438e-02,\n",
      "         7.91025534e-03,  -3.35353101e-03,  -8.48383922e-03,\n",
      "         4.20853234e-04,   4.20844008e-04,   1.81761030e-02,\n",
      "        -1.27292462e-02,   1.79080479e-02,   1.99667197e-02,\n",
      "        -1.36117479e-02,  -1.09270001e-02,   1.11172767e-02,\n",
      "        -3.26843970e-02,  -5.53032709e-03,   3.29152904e-02,\n",
      "         4.65310365e-02,  -1.47828003e-02,   1.77389607e-02,\n",
      "        -1.17273508e-02,   2.83466615e-02,   1.84455011e-02,\n",
      "         4.84101139e-02,   7.99361803e-03,   2.13351659e-02,\n",
      "        -1.79334879e-02,   1.50587002e-03,   2.94950180e-04,\n",
      "         1.81946736e-02,   1.36626093e-02,  -1.18808895e-02,\n",
      "        -4.59426381e-02,  -2.11002748e-03,   4.93587665e-02,\n",
      "         3.75654027e-02,   2.40553785e-02,   8.44880473e-03,\n",
      "        -2.54622139e-02,   3.14680394e-04,   4.57701320e-03,\n",
      "        -2.27065515e-02,  -3.00637148e-02,  -2.39322949e-02,\n",
      "         4.33146302e-03,   1.11174509e-02,   9.66713484e-03,\n",
      "         2.34945472e-02,   2.16659009e-02,  -4.66236426e-03,\n",
      "        -1.17551992e-02,  -2.78752707e-02,  -4.50658053e-03,\n",
      "        -1.72493383e-02,   2.90579833e-02,   1.53572103e-02,\n",
      "         2.10268479e-02,   2.66409684e-02,  -3.56767811e-02,\n",
      "        -2.92623956e-02,  -4.73355837e-02,  -2.37607155e-02,\n",
      "        -6.10010349e-04,   2.20915233e-03,  -2.29816940e-02,\n",
      "         1.93583069e-03,   3.43252234e-02,  -1.57610960e-02,\n",
      "        -6.94313738e-03,  -4.73149009e-02,  -3.29688541e-03,\n",
      "        -1.88074224e-02,   2.28886213e-02,  -1.32754641e-02,\n",
      "         9.45122354e-03,  -4.87192497e-02,   1.38810817e-02,\n",
      "        -1.34993726e-02,  -2.43305713e-02,  -4.41714516e-03,\n",
      "        -1.55220563e-02,   1.86634474e-02,  -5.42785926e-03], dtype=float32), array([ -7.10268551e-03,   1.67787615e-02,  -2.34435196e-03,\n",
      "         5.59470803e-02,  -1.65040977e-02,   1.66324303e-02,\n",
      "         1.16383731e-02,  -3.08921225e-02,   3.13408580e-03,\n",
      "         4.03472297e-02,   3.05302744e-03,  -4.39059921e-02,\n",
      "         4.50535351e-03,  -1.18149891e-02,  -4.61898036e-02,\n",
      "         3.44347246e-02,   2.38918290e-02,   3.18068266e-02,\n",
      "         5.76636801e-03,  -1.29427901e-02,  -6.72933087e-03,\n",
      "         2.02000458e-02,   1.49452677e-02,   7.22111145e-04,\n",
      "         1.23973740e-02,  -7.45584676e-03,  -3.43076363e-02,\n",
      "         4.79459874e-02,   2.12987904e-02,   5.84819179e-04,\n",
      "        -2.37283646e-03,   2.34384779e-02,   9.53849871e-03,\n",
      "         1.85634010e-02,   7.38997571e-03,   2.23167762e-02,\n",
      "         3.26080322e-02,  -8.98194034e-03,   2.86084078e-02,\n",
      "         2.92248316e-02,   4.43422087e-02,  -1.89589728e-02,\n",
      "         3.68373618e-02,   1.45365754e-02,   5.42408694e-03,\n",
      "        -1.98686775e-02,   8.68036412e-03,   3.08811422e-02,\n",
      "         2.09991746e-02,   1.92030203e-02,  -1.52169252e-02,\n",
      "         5.65165654e-02,  -1.17135132e-02,   2.86200829e-03,\n",
      "         4.42230236e-03,   1.42250899e-02,  -2.42320541e-02,\n",
      "        -3.83019894e-02,   1.75945535e-02,  -3.52080241e-02,\n",
      "        -9.71736945e-03,   2.95189247e-02,  -3.62037048e-02,\n",
      "        -2.31753811e-02,   1.33758895e-02,  -1.73243135e-02,\n",
      "        -3.58264260e-02,   1.26738800e-02,  -6.41104346e-03,\n",
      "         3.60451564e-02,   2.98184063e-02,  -1.01957228e-02,\n",
      "         2.69716028e-02,   3.95289017e-03,  -4.58313748e-02,\n",
      "        -1.26913777e-02,  -1.57113131e-02,   5.58540830e-03,\n",
      "         1.47932414e-02,   7.43448175e-03,  -1.52748348e-02,\n",
      "        -1.49246361e-02,   2.64029000e-02,   1.84034940e-03,\n",
      "        -1.95203666e-02,   7.61543913e-03,  -3.65505852e-02,\n",
      "         5.75779229e-02,   1.67771913e-02,   1.24800755e-02,\n",
      "        -2.93552689e-03,  -3.54644330e-03,  -4.08301800e-02,\n",
      "        -9.08150245e-03,  -1.79949682e-02,  -2.00843867e-02,\n",
      "         1.56748835e-02,   1.59609765e-02,  -6.92848209e-03,\n",
      "        -2.96875592e-02,  -1.11700865e-02,   1.74996946e-02,\n",
      "         2.85091647e-03,   5.32778539e-03,  -2.76995357e-02,\n",
      "        -2.85885925e-03,   1.08237173e-02,  -5.48376422e-03,\n",
      "         1.95742957e-03,  -2.30246074e-02,  -2.78575774e-02,\n",
      "         2.18447801e-02,  -1.67816859e-02,   1.59249362e-02,\n",
      "         4.24129590e-02,   4.22457838e-03,   8.51958804e-03,\n",
      "        -2.70616896e-02,   4.34326334e-03,   6.45922404e-03,\n",
      "        -1.16340872e-02,   4.26852843e-03,   7.63123948e-03,\n",
      "        -7.78383925e-04,   5.05444128e-03,  -2.14208718e-02,\n",
      "        -7.29781669e-03,   4.13385592e-03,   1.21803524e-03,\n",
      "         1.72656775e-02,  -2.72190087e-02,  -1.39248278e-02,\n",
      "        -2.06854176e-02,   3.01135723e-02,  -1.55553315e-02,\n",
      "        -8.22461955e-03,   1.32863233e-02,  -1.35860350e-02,\n",
      "         3.79147567e-02,   3.46540958e-02,   2.33034603e-03,\n",
      "        -3.99363674e-02,   3.13997199e-03,   2.56401915e-02,\n",
      "         9.11872927e-03,   1.33745570e-03,  -8.50249548e-03,\n",
      "         7.46936677e-03,  -6.62851101e-03,  -6.98603131e-03,\n",
      "         2.66555045e-02,   1.86218955e-02,  -4.70072478e-02,\n",
      "         3.04553583e-02,  -4.71438505e-02,  -1.58907194e-02,\n",
      "         2.29606358e-03,  -1.53267644e-02,  -2.91856304e-02,\n",
      "        -3.92515883e-02,  -3.58546823e-02,   1.81342438e-02,\n",
      "         1.47801125e-02,   3.43520939e-02,   1.29113225e-02,\n",
      "        -3.73791829e-02,   2.78890855e-03,  -4.38272953e-02,\n",
      "        -1.60786733e-02,   9.46418196e-03,  -5.77490106e-02,\n",
      "         1.89785543e-03,   9.21990257e-03,  -2.50568278e-02,\n",
      "        -2.15385109e-02,   4.06410219e-03,   4.23527434e-02,\n",
      "        -1.68265551e-02,  -1.38268089e-02,   3.32041085e-02,\n",
      "        -4.45557497e-02,  -5.54003529e-02,   1.85595639e-02,\n",
      "        -1.35401357e-02,  -2.25051101e-02,  -1.01736961e-02,\n",
      "        -1.91036258e-02,  -1.92960929e-02,   1.53152132e-02,\n",
      "         1.73829179e-02,  -2.59349532e-02,   7.23368581e-03,\n",
      "         1.41425733e-03,  -1.04372166e-02,  -5.65409008e-03,\n",
      "         1.93283688e-02,  -6.13454916e-03,  -6.16535265e-03,\n",
      "        -2.25994401e-02,  -2.26200148e-02,   4.76215454e-03,\n",
      "         2.16088742e-02,  -7.63849122e-03,  -1.11849215e-02,\n",
      "         4.27548221e-04,  -1.83496531e-02,   3.65588721e-03,\n",
      "        -1.47344945e-02,  -4.37651215e-05,   9.21513233e-03,\n",
      "        -3.16473134e-02,   3.30493748e-02,  -2.96139307e-02,\n",
      "         2.27425750e-02,  -1.59442704e-02,   3.63963493e-03,\n",
      "         2.17413642e-02,   1.48657300e-02,  -3.83276865e-02,\n",
      "        -1.04407063e-02,  -2.80401818e-02,   1.11944079e-02,\n",
      "         4.84541079e-06,   4.26295958e-03,  -4.34597209e-03,\n",
      "         4.65990882e-03,   3.29639832e-03,  -1.28714731e-02,\n",
      "         5.09187020e-03,   3.67855560e-03,  -6.79734722e-03,\n",
      "        -2.28472427e-02,   1.03706717e-02,   1.63619462e-02,\n",
      "         1.92760099e-02,  -2.43298635e-02,  -7.06802960e-03,\n",
      "        -1.52657377e-02,   1.65998116e-02,   2.07387432e-02,\n",
      "         2.38324236e-02,  -2.23997310e-02,   5.58664836e-03,\n",
      "        -3.68023627e-02,  -1.18460702e-02,   1.56441033e-02,\n",
      "        -2.56866217e-02,   1.62301660e-02,  -2.17491146e-02,\n",
      "        -1.25970319e-02,   2.60160444e-03,   4.28649411e-03,\n",
      "         3.85255367e-02,   2.34647132e-02,   1.24570467e-02,\n",
      "        -5.24751656e-02,  -2.17414722e-02,  -1.16263274e-02,\n",
      "        -1.80154964e-02,  -5.47490735e-03,   1.45021798e-02,\n",
      "         1.19864224e-02,  -2.49596220e-02,  -7.66001223e-03,\n",
      "         1.54170580e-02,   2.25715153e-02,  -1.57981310e-02,\n",
      "        -8.57751817e-03,  -1.14013683e-02,  -2.57405452e-03,\n",
      "        -1.51009550e-02,   1.00408532e-02,   1.77618060e-02,\n",
      "         2.19334308e-02,   2.63720918e-02,  -2.21864395e-02,\n",
      "        -3.35157402e-02,  -2.72846073e-02,  -4.28014547e-02,\n",
      "         4.94159572e-03,   4.21187468e-03,   1.03206756e-02,\n",
      "         9.85543337e-03,   3.53816487e-02,  -1.08231744e-02,\n",
      "        -1.71801802e-02,  -2.54908558e-02,   1.82218908e-03,\n",
      "        -1.48244237e-03,   4.91718501e-02,  -2.14011651e-02,\n",
      "         2.07224884e-03,  -4.61996421e-02,  -2.87144305e-03,\n",
      "        -1.01171844e-02,  -2.67091300e-02,   2.83311657e-03,\n",
      "        -3.32077965e-02,   1.35538997e-02,   1.69050153e-02], dtype=float32)]\n",
      "Wall time: 54min 26s\n"
     ]
    }
   ],
   "source": [
    "%%time\n",
    "## pass through review text and get the average vector for each review.\n",
    "\n",
    "reviews_text_vec = []\n",
    "for x in reviews_text:\n",
    "    reviews_text_vec.append(get_avg_vec(x, model, 300))\n",
    "print reviews_text_vec[:5]"
   ]
  },
  {
   "cell_type": "markdown",
   "metadata": {},
   "source": [
    "###Run Random Forests Classifier"
   ]
  },
  {
   "cell_type": "code",
   "execution_count": 42,
   "metadata": {
    "collapsed": false
   },
   "outputs": [],
   "source": [
    "reviews['good'] = (reviews['stars'] > 3)\n",
    "good = reviews['good']"
   ]
  },
  {
   "cell_type": "code",
   "execution_count": 49,
   "metadata": {
    "collapsed": false
   },
   "outputs": [
    {
     "data": {
      "text/plain": [
       "numpy.ndarray"
      ]
     },
     "execution_count": 49,
     "metadata": {},
     "output_type": "execute_result"
    }
   ],
   "source": [
    "reviews_text_vec_array = np.array(reviews_text_vec)\n"
   ]
  },
  {
   "cell_type": "code",
   "execution_count": 50,
   "metadata": {
    "collapsed": false
   },
   "outputs": [
    {
     "ename": "ValueError",
     "evalue": "Input contains NaN, infinity or a value too large for dtype('float64').",
     "output_type": "error",
     "traceback": [
      "\u001b[1;31m---------------------------------------------------------------------------\u001b[0m",
      "\u001b[1;31mValueError\u001b[0m                                Traceback (most recent call last)",
      "\u001b[1;32m<ipython-input-50-293cc729832b>\u001b[0m in \u001b[0;36m<module>\u001b[1;34m()\u001b[0m\n\u001b[0;32m      2\u001b[0m \u001b[1;33m\u001b[0m\u001b[0m\n\u001b[0;32m      3\u001b[0m \u001b[0mlog\u001b[0m \u001b[1;33m=\u001b[0m \u001b[0msk\u001b[0m\u001b[1;33m.\u001b[0m\u001b[0mlinear_model\u001b[0m\u001b[1;33m.\u001b[0m\u001b[0mLogisticRegression\u001b[0m\u001b[1;33m(\u001b[0m\u001b[1;33m)\u001b[0m\u001b[1;33m\u001b[0m\u001b[0m\n\u001b[1;32m----> 4\u001b[1;33m \u001b[0mlog\u001b[0m\u001b[1;33m.\u001b[0m\u001b[0mfit\u001b[0m\u001b[1;33m(\u001b[0m\u001b[0mreviews_text_vec_array\u001b[0m\u001b[1;33m,\u001b[0m \u001b[0mgood\u001b[0m\u001b[1;33m)\u001b[0m\u001b[1;33m\u001b[0m\u001b[0m\n\u001b[0m",
      "\u001b[1;32mC:\\Users\\samchu\\AppData\\Local\\Continuum\\Anaconda\\lib\\site-packages\\sklearn\\linear_model\\logistic.pyc\u001b[0m in \u001b[0;36mfit\u001b[1;34m(self, X, y)\u001b[0m\n\u001b[0;32m   1015\u001b[0m                              % self.C)\n\u001b[0;32m   1016\u001b[0m \u001b[1;33m\u001b[0m\u001b[0m\n\u001b[1;32m-> 1017\u001b[1;33m         \u001b[0mX\u001b[0m\u001b[1;33m,\u001b[0m \u001b[0my\u001b[0m \u001b[1;33m=\u001b[0m \u001b[0mcheck_X_y\u001b[0m\u001b[1;33m(\u001b[0m\u001b[0mX\u001b[0m\u001b[1;33m,\u001b[0m \u001b[0my\u001b[0m\u001b[1;33m,\u001b[0m \u001b[0maccept_sparse\u001b[0m\u001b[1;33m=\u001b[0m\u001b[1;34m'csr'\u001b[0m\u001b[1;33m,\u001b[0m \u001b[0mdtype\u001b[0m\u001b[1;33m=\u001b[0m\u001b[0mnp\u001b[0m\u001b[1;33m.\u001b[0m\u001b[0mfloat64\u001b[0m\u001b[1;33m,\u001b[0m \u001b[0morder\u001b[0m\u001b[1;33m=\u001b[0m\u001b[1;34m\"C\"\u001b[0m\u001b[1;33m)\u001b[0m\u001b[1;33m\u001b[0m\u001b[0m\n\u001b[0m\u001b[0;32m   1018\u001b[0m         \u001b[0mself\u001b[0m\u001b[1;33m.\u001b[0m\u001b[0mclasses_\u001b[0m \u001b[1;33m=\u001b[0m \u001b[0mnp\u001b[0m\u001b[1;33m.\u001b[0m\u001b[0munique\u001b[0m\u001b[1;33m(\u001b[0m\u001b[0my\u001b[0m\u001b[1;33m)\u001b[0m\u001b[1;33m\u001b[0m\u001b[0m\n\u001b[0;32m   1019\u001b[0m         \u001b[1;32mif\u001b[0m \u001b[0mself\u001b[0m\u001b[1;33m.\u001b[0m\u001b[0msolver\u001b[0m \u001b[1;32mnot\u001b[0m \u001b[1;32min\u001b[0m \u001b[1;33m[\u001b[0m\u001b[1;34m'liblinear'\u001b[0m\u001b[1;33m,\u001b[0m \u001b[1;34m'newton-cg'\u001b[0m\u001b[1;33m,\u001b[0m \u001b[1;34m'lbfgs'\u001b[0m\u001b[1;33m]\u001b[0m\u001b[1;33m:\u001b[0m\u001b[1;33m\u001b[0m\u001b[0m\n",
      "\u001b[1;32mC:\\Users\\samchu\\AppData\\Local\\Continuum\\Anaconda\\lib\\site-packages\\sklearn\\utils\\validation.pyc\u001b[0m in \u001b[0;36mcheck_X_y\u001b[1;34m(X, y, accept_sparse, dtype, order, copy, force_all_finite, ensure_2d, allow_nd, multi_output, ensure_min_samples, ensure_min_features, y_numeric)\u001b[0m\n\u001b[0;32m    442\u001b[0m     X = check_array(X, accept_sparse, dtype, order, copy, force_all_finite,\n\u001b[0;32m    443\u001b[0m                     \u001b[0mensure_2d\u001b[0m\u001b[1;33m,\u001b[0m \u001b[0mallow_nd\u001b[0m\u001b[1;33m,\u001b[0m \u001b[0mensure_min_samples\u001b[0m\u001b[1;33m,\u001b[0m\u001b[1;33m\u001b[0m\u001b[0m\n\u001b[1;32m--> 444\u001b[1;33m                     ensure_min_features)\n\u001b[0m\u001b[0;32m    445\u001b[0m     \u001b[1;32mif\u001b[0m \u001b[0mmulti_output\u001b[0m\u001b[1;33m:\u001b[0m\u001b[1;33m\u001b[0m\u001b[0m\n\u001b[0;32m    446\u001b[0m         y = check_array(y, 'csr', force_all_finite=True, ensure_2d=False,\n",
      "\u001b[1;32mC:\\Users\\samchu\\AppData\\Local\\Continuum\\Anaconda\\lib\\site-packages\\sklearn\\utils\\validation.pyc\u001b[0m in \u001b[0;36mcheck_array\u001b[1;34m(array, accept_sparse, dtype, order, copy, force_all_finite, ensure_2d, allow_nd, ensure_min_samples, ensure_min_features)\u001b[0m\n\u001b[0;32m    350\u001b[0m                              array.ndim)\n\u001b[0;32m    351\u001b[0m         \u001b[1;32mif\u001b[0m \u001b[0mforce_all_finite\u001b[0m\u001b[1;33m:\u001b[0m\u001b[1;33m\u001b[0m\u001b[0m\n\u001b[1;32m--> 352\u001b[1;33m             \u001b[0m_assert_all_finite\u001b[0m\u001b[1;33m(\u001b[0m\u001b[0marray\u001b[0m\u001b[1;33m)\u001b[0m\u001b[1;33m\u001b[0m\u001b[0m\n\u001b[0m\u001b[0;32m    353\u001b[0m \u001b[1;33m\u001b[0m\u001b[0m\n\u001b[0;32m    354\u001b[0m     \u001b[0mshape_repr\u001b[0m \u001b[1;33m=\u001b[0m \u001b[0m_shape_repr\u001b[0m\u001b[1;33m(\u001b[0m\u001b[0marray\u001b[0m\u001b[1;33m.\u001b[0m\u001b[0mshape\u001b[0m\u001b[1;33m)\u001b[0m\u001b[1;33m\u001b[0m\u001b[0m\n",
      "\u001b[1;32mC:\\Users\\samchu\\AppData\\Local\\Continuum\\Anaconda\\lib\\site-packages\\sklearn\\utils\\validation.pyc\u001b[0m in \u001b[0;36m_assert_all_finite\u001b[1;34m(X)\u001b[0m\n\u001b[0;32m     50\u001b[0m             and not np.isfinite(X).all()):\n\u001b[0;32m     51\u001b[0m         raise ValueError(\"Input contains NaN, infinity\"\n\u001b[1;32m---> 52\u001b[1;33m                          \" or a value too large for %r.\" % X.dtype)\n\u001b[0m\u001b[0;32m     53\u001b[0m \u001b[1;33m\u001b[0m\u001b[0m\n\u001b[0;32m     54\u001b[0m \u001b[1;33m\u001b[0m\u001b[0m\n",
      "\u001b[1;31mValueError\u001b[0m: Input contains NaN, infinity or a value too large for dtype('float64')."
     ]
    }
   ],
   "source": [
    "## Define and fit the model\n",
    "\n",
    "forest = sk.linear_model.RandomForestClassifier(n_estimators = 5)\n",
    "forest.fit(reviews_text_vec_array, reviews)"
   ]
  },
  {
   "cell_type": "code",
   "execution_count": 31,
   "metadata": {
    "collapsed": false
   },
   "outputs": [
    {
     "ename": "NotFittedError",
     "evalue": "This LogisticRegression instance is not fittedyet",
     "output_type": "error",
     "traceback": [
      "\u001b[1;31m---------------------------------------------------------------------------\u001b[0m",
      "\u001b[1;31mNotFittedError\u001b[0m                            Traceback (most recent call last)",
      "\u001b[1;32m<ipython-input-31-62158f2bfad6>\u001b[0m in \u001b[0;36m<module>\u001b[1;34m()\u001b[0m\n\u001b[0;32m      1\u001b[0m \u001b[1;31m## Plot ROC curve to see how it performs\u001b[0m\u001b[1;33m\u001b[0m\u001b[1;33m\u001b[0m\u001b[0m\n\u001b[1;32m----> 2\u001b[1;33m \u001b[0mpred_probas\u001b[0m \u001b[1;33m=\u001b[0m \u001b[0mlog\u001b[0m\u001b[1;33m.\u001b[0m\u001b[0mpredict_proba\u001b[0m\u001b[1;33m(\u001b[0m\u001b[0mgood\u001b[0m\u001b[1;33m)\u001b[0m\u001b[1;33m[\u001b[0m\u001b[1;33m:\u001b[0m\u001b[1;33m,\u001b[0m\u001b[1;36m1\u001b[0m\u001b[1;33m]\u001b[0m\u001b[1;33m\u001b[0m\u001b[0m\n\u001b[0m\u001b[0;32m      3\u001b[0m \u001b[1;33m\u001b[0m\u001b[0m\n\u001b[0;32m      4\u001b[0m \u001b[0mfalse_pos_rate\u001b[0m\u001b[1;33m,\u001b[0m \u001b[0mtrue_pos_rate\u001b[0m\u001b[1;33m,\u001b[0m \u001b[0mthresholds\u001b[0m \u001b[1;33m=\u001b[0m \u001b[0mroc_curve\u001b[0m\u001b[1;33m(\u001b[0m\u001b[0mgood\u001b[0m\u001b[1;33m,\u001b[0m \u001b[0mpred_probas\u001b[0m\u001b[1;33m)\u001b[0m\u001b[1;33m\u001b[0m\u001b[0m\n\u001b[0;32m      5\u001b[0m \u001b[0mroc_auc\u001b[0m \u001b[1;33m=\u001b[0m \u001b[0mauc\u001b[0m\u001b[1;33m(\u001b[0m\u001b[0mfalse_pos_rate\u001b[0m\u001b[1;33m,\u001b[0m \u001b[0mtrue_pos_rate\u001b[0m\u001b[1;33m)\u001b[0m\u001b[1;33m\u001b[0m\u001b[0m\n",
      "\u001b[1;32mC:\\Users\\samchu\\AppData\\Local\\Continuum\\Anaconda\\lib\\site-packages\\sklearn\\linear_model\\logistic.pyc\u001b[0m in \u001b[0;36mpredict_proba\u001b[1;34m(self, X)\u001b[0m\n\u001b[0;32m   1093\u001b[0m             \u001b[0mwhere\u001b[0m \u001b[0mclasses\u001b[0m \u001b[0mare\u001b[0m \u001b[0mordered\u001b[0m \u001b[1;32mas\u001b[0m \u001b[0mthey\u001b[0m \u001b[0mare\u001b[0m \u001b[1;32min\u001b[0m \u001b[1;33m`\u001b[0m\u001b[1;33m`\u001b[0m\u001b[0mself\u001b[0m\u001b[1;33m.\u001b[0m\u001b[0mclasses_\u001b[0m\u001b[1;33m`\u001b[0m\u001b[1;33m`\u001b[0m\u001b[1;33m.\u001b[0m\u001b[1;33m\u001b[0m\u001b[0m\n\u001b[0;32m   1094\u001b[0m         \"\"\"\n\u001b[1;32m-> 1095\u001b[1;33m         \u001b[1;32mreturn\u001b[0m \u001b[0mself\u001b[0m\u001b[1;33m.\u001b[0m\u001b[0m_predict_proba_lr\u001b[0m\u001b[1;33m(\u001b[0m\u001b[0mX\u001b[0m\u001b[1;33m)\u001b[0m\u001b[1;33m\u001b[0m\u001b[0m\n\u001b[0m\u001b[0;32m   1096\u001b[0m \u001b[1;33m\u001b[0m\u001b[0m\n\u001b[0;32m   1097\u001b[0m     \u001b[1;32mdef\u001b[0m \u001b[0mpredict_log_proba\u001b[0m\u001b[1;33m(\u001b[0m\u001b[0mself\u001b[0m\u001b[1;33m,\u001b[0m \u001b[0mX\u001b[0m\u001b[1;33m)\u001b[0m\u001b[1;33m:\u001b[0m\u001b[1;33m\u001b[0m\u001b[0m\n",
      "\u001b[1;32mC:\\Users\\samchu\\AppData\\Local\\Continuum\\Anaconda\\lib\\site-packages\\sklearn\\linear_model\\base.pyc\u001b[0m in \u001b[0;36m_predict_proba_lr\u001b[1;34m(self, X)\u001b[0m\n\u001b[0;32m    235\u001b[0m         \u001b[0mmulticlass\u001b[0m \u001b[1;32mis\u001b[0m \u001b[0mhandled\u001b[0m \u001b[0mby\u001b[0m \u001b[0mnormalizing\u001b[0m \u001b[0mthat\u001b[0m \u001b[0mover\u001b[0m \u001b[0mall\u001b[0m \u001b[0mclasses\u001b[0m\u001b[1;33m.\u001b[0m\u001b[1;33m\u001b[0m\u001b[0m\n\u001b[0;32m    236\u001b[0m         \"\"\"\n\u001b[1;32m--> 237\u001b[1;33m         \u001b[0mprob\u001b[0m \u001b[1;33m=\u001b[0m \u001b[0mself\u001b[0m\u001b[1;33m.\u001b[0m\u001b[0mdecision_function\u001b[0m\u001b[1;33m(\u001b[0m\u001b[0mX\u001b[0m\u001b[1;33m)\u001b[0m\u001b[1;33m\u001b[0m\u001b[0m\n\u001b[0m\u001b[0;32m    238\u001b[0m         \u001b[0mprob\u001b[0m \u001b[1;33m*=\u001b[0m \u001b[1;33m-\u001b[0m\u001b[1;36m1\u001b[0m\u001b[1;33m\u001b[0m\u001b[0m\n\u001b[0;32m    239\u001b[0m         \u001b[0mnp\u001b[0m\u001b[1;33m.\u001b[0m\u001b[0mexp\u001b[0m\u001b[1;33m(\u001b[0m\u001b[0mprob\u001b[0m\u001b[1;33m,\u001b[0m \u001b[0mprob\u001b[0m\u001b[1;33m)\u001b[0m\u001b[1;33m\u001b[0m\u001b[0m\n",
      "\u001b[1;32mC:\\Users\\samchu\\AppData\\Local\\Continuum\\Anaconda\\lib\\site-packages\\sklearn\\linear_model\\base.pyc\u001b[0m in \u001b[0;36mdecision_function\u001b[1;34m(self, X)\u001b[0m\n\u001b[0;32m    195\u001b[0m         \u001b[1;32mif\u001b[0m \u001b[1;32mnot\u001b[0m \u001b[0mhasattr\u001b[0m\u001b[1;33m(\u001b[0m\u001b[0mself\u001b[0m\u001b[1;33m,\u001b[0m \u001b[1;34m'coef_'\u001b[0m\u001b[1;33m)\u001b[0m \u001b[1;32mor\u001b[0m \u001b[0mself\u001b[0m\u001b[1;33m.\u001b[0m\u001b[0mcoef_\u001b[0m \u001b[1;32mis\u001b[0m \u001b[0mNone\u001b[0m\u001b[1;33m:\u001b[0m\u001b[1;33m\u001b[0m\u001b[0m\n\u001b[0;32m    196\u001b[0m             raise NotFittedError(\"This %(name)s instance is not fitted\"\n\u001b[1;32m--> 197\u001b[1;33m                                  \"yet\" % {'name': type(self).__name__})\n\u001b[0m\u001b[0;32m    198\u001b[0m \u001b[1;33m\u001b[0m\u001b[0m\n\u001b[0;32m    199\u001b[0m         \u001b[0mX\u001b[0m \u001b[1;33m=\u001b[0m \u001b[0mcheck_array\u001b[0m\u001b[1;33m(\u001b[0m\u001b[0mX\u001b[0m\u001b[1;33m,\u001b[0m \u001b[0maccept_sparse\u001b[0m\u001b[1;33m=\u001b[0m\u001b[1;34m'csr'\u001b[0m\u001b[1;33m)\u001b[0m\u001b[1;33m\u001b[0m\u001b[0m\n",
      "\u001b[1;31mNotFittedError\u001b[0m: This LogisticRegression instance is not fittedyet"
     ]
    }
   ],
   "source": [
    "## Plot ROC curve to see how it performs\n",
    "pred_probas = log.predict_proba(good)[:,1]\n",
    "\n",
    "false_pos_rate, true_pos_rate, thresholds = roc_curve(good, pred_probas)\n",
    "roc_auc = auc(false_pos_rate, true_pos_rate)\n",
    "plt.plot(false_pos_rate, true_pos_rate, label='area = %.2f' %roc_auc)\n",
    "plt.plot([0, 1], [0, 1], 'k--')\n",
    "plt.xlim([-0.05, 1.0])\n",
    "plt.ylim([0.0, 1.05])\n",
    "plt.legend(loc='lower right')\n",
    "\n",
    "plt.show()"
   ]
  },
  {
   "cell_type": "code",
   "execution_count": null,
   "metadata": {
    "collapsed": true
   },
   "outputs": [],
   "source": []
  }
 ],
 "metadata": {
  "kernelspec": {
   "display_name": "Python 2",
   "language": "python",
   "name": "python2"
  },
  "language_info": {
   "codemirror_mode": {
    "name": "ipython",
    "version": 2
   },
   "file_extension": ".py",
   "mimetype": "text/x-python",
   "name": "python",
   "nbconvert_exporter": "python",
   "pygments_lexer": "ipython2",
   "version": "2.7.10"
  }
 },
 "nbformat": 4,
 "nbformat_minor": 0
}

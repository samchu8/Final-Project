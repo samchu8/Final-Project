{
 "cells": [
  {
   "cell_type": "markdown",
   "metadata": {},
   "source": [
    "#DAT-25-NYC Final Project: Yelp Review Text Analysis\n",
    "##Goal: Predict the number of stars on any given review based on the review text"
   ]
  },
  {
   "cell_type": "markdown",
   "metadata": {},
   "source": [
    "Import appropriate libraries for analysis"
   ]
  },
  {
   "cell_type": "code",
   "execution_count": 1,
   "metadata": {
    "collapsed": true
   },
   "outputs": [],
   "source": [
    "import pandas as pd\n",
    "import numpy as np\n",
    "import seaborn as sns\n",
    "import re\n",
    "from matplotlib import pyplot as plt\n",
    "from nltk.corpus import stopwords\n",
    "from nltk.tokenize import word_tokenize\n",
    "from nltk.stem.wordnet import WordNetLemmatizer\n",
    "from sklearn import cross_validation\n",
    "from sklearn.metrics import classification_report\n",
    "from sklearn.cross_validation import cross_val_score\n",
    "from sklearn.ensemble import ExtraTreesClassifier\n",
    "from sklearn.naive_bayes import MultinomialNB\n",
    "from sklearn.svm import SVC\n",
    "from sklearn.ensemble import AdaBoostClassifier\n",
    "from sklearn.linear_model import LogisticRegression\n",
    "from sklearn.metrics import roc_curve\n",
    "from sklearn.metrics import auc\n",
    "from sklearn.feature_extraction.text import TfidfVectorizer\n",
    "from sklearn.feature_extraction.text import CountVectorizer\n",
    "\n",
    "%matplotlib inline"
   ]
  },
  {
   "cell_type": "markdown",
   "metadata": {},
   "source": [
    "###Read in review data\n",
    "###Merge \"review\" table with \"business\" table to add business category and location"
   ]
  },
  {
   "cell_type": "code",
   "execution_count": 3,
   "metadata": {
    "collapsed": false
   },
   "outputs": [
    {
     "data": {
      "text/html": [
       "<div>\n",
       "<table border=\"1\" class=\"dataframe\">\n",
       "  <thead>\n",
       "    <tr style=\"text-align: right;\">\n",
       "      <th></th>\n",
       "      <th>user_id</th>\n",
       "      <th>review_id</th>\n",
       "      <th>text</th>\n",
       "      <th>votes.cool</th>\n",
       "      <th>business_id</th>\n",
       "      <th>votes.funny</th>\n",
       "      <th>stars</th>\n",
       "      <th>date</th>\n",
       "      <th>type</th>\n",
       "      <th>votes.useful</th>\n",
       "      <th>categories</th>\n",
       "      <th>state</th>\n",
       "      <th>city</th>\n",
       "    </tr>\n",
       "  </thead>\n",
       "  <tbody>\n",
       "    <tr>\n",
       "      <th>0</th>\n",
       "      <td>Xqd0DzHaiyRqVH3WRG7hzg</td>\n",
       "      <td>15SdjuK7DmYqUAj6rjGowg</td>\n",
       "      <td>dr. goldberg offers everything i look for in a...</td>\n",
       "      <td>1</td>\n",
       "      <td>vcNAWiLM4dR7D2nwwJ7nCA</td>\n",
       "      <td>0</td>\n",
       "      <td>5</td>\n",
       "      <td>2007-05-17</td>\n",
       "      <td>review</td>\n",
       "      <td>2</td>\n",
       "      <td>[u'Doctors', u'Health &amp; Medical']</td>\n",
       "      <td>AZ</td>\n",
       "      <td>Phoenix</td>\n",
       "    </tr>\n",
       "    <tr>\n",
       "      <th>1</th>\n",
       "      <td>H1kH6QZV7Le4zqTRNxoZow</td>\n",
       "      <td>RF6UnRTtG7tWMcrO2GEoAg</td>\n",
       "      <td>Unfortunately, the frustration of being Dr. Go...</td>\n",
       "      <td>0</td>\n",
       "      <td>vcNAWiLM4dR7D2nwwJ7nCA</td>\n",
       "      <td>0</td>\n",
       "      <td>2</td>\n",
       "      <td>2010-03-22</td>\n",
       "      <td>review</td>\n",
       "      <td>2</td>\n",
       "      <td>[u'Doctors', u'Health &amp; Medical']</td>\n",
       "      <td>AZ</td>\n",
       "      <td>Phoenix</td>\n",
       "    </tr>\n",
       "    <tr>\n",
       "      <th>2</th>\n",
       "      <td>zvJCcrpm2yOZrxKffwGQLA</td>\n",
       "      <td>-TsVN230RCkLYKBeLsuz7A</td>\n",
       "      <td>Dr. Goldberg has been my doctor for years and ...</td>\n",
       "      <td>1</td>\n",
       "      <td>vcNAWiLM4dR7D2nwwJ7nCA</td>\n",
       "      <td>0</td>\n",
       "      <td>4</td>\n",
       "      <td>2012-02-14</td>\n",
       "      <td>review</td>\n",
       "      <td>1</td>\n",
       "      <td>[u'Doctors', u'Health &amp; Medical']</td>\n",
       "      <td>AZ</td>\n",
       "      <td>Phoenix</td>\n",
       "    </tr>\n",
       "    <tr>\n",
       "      <th>3</th>\n",
       "      <td>KBLW4wJA_fwoWmMhiHRVOA</td>\n",
       "      <td>dNocEAyUucjT371NNND41Q</td>\n",
       "      <td>Been going to Dr. Goldberg for over 10 years. ...</td>\n",
       "      <td>0</td>\n",
       "      <td>vcNAWiLM4dR7D2nwwJ7nCA</td>\n",
       "      <td>0</td>\n",
       "      <td>4</td>\n",
       "      <td>2012-03-02</td>\n",
       "      <td>review</td>\n",
       "      <td>0</td>\n",
       "      <td>[u'Doctors', u'Health &amp; Medical']</td>\n",
       "      <td>AZ</td>\n",
       "      <td>Phoenix</td>\n",
       "    </tr>\n",
       "    <tr>\n",
       "      <th>4</th>\n",
       "      <td>zvJCcrpm2yOZrxKffwGQLA</td>\n",
       "      <td>ebcN2aqmNUuYNoyvQErgnA</td>\n",
       "      <td>Got a letter in the mail last week that said D...</td>\n",
       "      <td>1</td>\n",
       "      <td>vcNAWiLM4dR7D2nwwJ7nCA</td>\n",
       "      <td>0</td>\n",
       "      <td>4</td>\n",
       "      <td>2012-05-15</td>\n",
       "      <td>review</td>\n",
       "      <td>2</td>\n",
       "      <td>[u'Doctors', u'Health &amp; Medical']</td>\n",
       "      <td>AZ</td>\n",
       "      <td>Phoenix</td>\n",
       "    </tr>\n",
       "  </tbody>\n",
       "</table>\n",
       "</div>"
      ],
      "text/plain": [
       "                  user_id               review_id  \\\n",
       "0  Xqd0DzHaiyRqVH3WRG7hzg  15SdjuK7DmYqUAj6rjGowg   \n",
       "1  H1kH6QZV7Le4zqTRNxoZow  RF6UnRTtG7tWMcrO2GEoAg   \n",
       "2  zvJCcrpm2yOZrxKffwGQLA  -TsVN230RCkLYKBeLsuz7A   \n",
       "3  KBLW4wJA_fwoWmMhiHRVOA  dNocEAyUucjT371NNND41Q   \n",
       "4  zvJCcrpm2yOZrxKffwGQLA  ebcN2aqmNUuYNoyvQErgnA   \n",
       "\n",
       "                                                text  votes.cool  \\\n",
       "0  dr. goldberg offers everything i look for in a...           1   \n",
       "1  Unfortunately, the frustration of being Dr. Go...           0   \n",
       "2  Dr. Goldberg has been my doctor for years and ...           1   \n",
       "3  Been going to Dr. Goldberg for over 10 years. ...           0   \n",
       "4  Got a letter in the mail last week that said D...           1   \n",
       "\n",
       "              business_id  votes.funny  stars        date    type  \\\n",
       "0  vcNAWiLM4dR7D2nwwJ7nCA            0      5  2007-05-17  review   \n",
       "1  vcNAWiLM4dR7D2nwwJ7nCA            0      2  2010-03-22  review   \n",
       "2  vcNAWiLM4dR7D2nwwJ7nCA            0      4  2012-02-14  review   \n",
       "3  vcNAWiLM4dR7D2nwwJ7nCA            0      4  2012-03-02  review   \n",
       "4  vcNAWiLM4dR7D2nwwJ7nCA            0      4  2012-05-15  review   \n",
       "\n",
       "   votes.useful                         categories state     city  \n",
       "0             2  [u'Doctors', u'Health & Medical']    AZ  Phoenix  \n",
       "1             2  [u'Doctors', u'Health & Medical']    AZ  Phoenix  \n",
       "2             1  [u'Doctors', u'Health & Medical']    AZ  Phoenix  \n",
       "3             0  [u'Doctors', u'Health & Medical']    AZ  Phoenix  \n",
       "4             2  [u'Doctors', u'Health & Medical']    AZ  Phoenix  "
      ]
     },
     "execution_count": 3,
     "metadata": {},
     "output_type": "execute_result"
    }
   ],
   "source": [
    "rvws = pd.read_csv(\"data\\yelp_academic_dataset_review.csv\")\n",
    "headers = ['categories','business_id','city','state']\n",
    "business = pd.read_csv(\"data\\yelp_academic_dataset_business.csv\", usecols = headers)\n",
    "reviews_full = pd.merge(rvws, business, on = 'business_id')\n",
    "reviews_full.head()"
   ]
  },
  {
   "cell_type": "markdown",
   "metadata": {},
   "source": [
    "###Modify dataframe to include only restaurants and one location (Avondale)"
   ]
  },
  {
   "cell_type": "code",
   "execution_count": 4,
   "metadata": {
    "collapsed": false
   },
   "outputs": [
    {
     "data": {
      "text/html": [
       "<div>\n",
       "<table border=\"1\" class=\"dataframe\">\n",
       "  <thead>\n",
       "    <tr style=\"text-align: right;\">\n",
       "      <th></th>\n",
       "      <th>user_id</th>\n",
       "      <th>review_id</th>\n",
       "      <th>text</th>\n",
       "      <th>votes.cool</th>\n",
       "      <th>business_id</th>\n",
       "      <th>votes.funny</th>\n",
       "      <th>stars</th>\n",
       "      <th>date</th>\n",
       "      <th>type</th>\n",
       "      <th>votes.useful</th>\n",
       "      <th>categories</th>\n",
       "      <th>state</th>\n",
       "      <th>city</th>\n",
       "      <th>restaurant</th>\n",
       "    </tr>\n",
       "  </thead>\n",
       "  <tbody>\n",
       "    <tr>\n",
       "      <th>0</th>\n",
       "      <td>cTT7cTG6SuVOc1ib6gwhHA</td>\n",
       "      <td>uPez-RSvBOxO1AWTGMtB7g</td>\n",
       "      <td>3.5 Stars\\n\\nEvery clerk there is friendly.  N...</td>\n",
       "      <td>2</td>\n",
       "      <td>j5qC_y7mRRWNUqFdR8Z1_A</td>\n",
       "      <td>1</td>\n",
       "      <td>3</td>\n",
       "      <td>2013-10-13</td>\n",
       "      <td>review</td>\n",
       "      <td>3</td>\n",
       "      <td>[u'Food', u'Ice Cream &amp; Frozen Yogurt']</td>\n",
       "      <td>AZ</td>\n",
       "      <td>Avondale</td>\n",
       "      <td>1</td>\n",
       "    </tr>\n",
       "    <tr>\n",
       "      <th>1</th>\n",
       "      <td>kcgYbndUk0e07YusRAcTrg</td>\n",
       "      <td>Q6L6oNvb60GMqdN5xxSRiw</td>\n",
       "      <td>Simple and small, haven't tried their water or...</td>\n",
       "      <td>0</td>\n",
       "      <td>j5qC_y7mRRWNUqFdR8Z1_A</td>\n",
       "      <td>0</td>\n",
       "      <td>3</td>\n",
       "      <td>2014-07-29</td>\n",
       "      <td>review</td>\n",
       "      <td>0</td>\n",
       "      <td>[u'Food', u'Ice Cream &amp; Frozen Yogurt']</td>\n",
       "      <td>AZ</td>\n",
       "      <td>Avondale</td>\n",
       "      <td>1</td>\n",
       "    </tr>\n",
       "    <tr>\n",
       "      <th>2</th>\n",
       "      <td>vrIuFfhpUyOA_m9goXVWxw</td>\n",
       "      <td>yVV5W3cDRYow2nEPQDN-EQ</td>\n",
       "      <td>Ashley is really awesome she is always with a ...</td>\n",
       "      <td>0</td>\n",
       "      <td>j5qC_y7mRRWNUqFdR8Z1_A</td>\n",
       "      <td>1</td>\n",
       "      <td>5</td>\n",
       "      <td>2014-10-01</td>\n",
       "      <td>review</td>\n",
       "      <td>0</td>\n",
       "      <td>[u'Food', u'Ice Cream &amp; Frozen Yogurt']</td>\n",
       "      <td>AZ</td>\n",
       "      <td>Avondale</td>\n",
       "      <td>1</td>\n",
       "    </tr>\n",
       "    <tr>\n",
       "      <th>3</th>\n",
       "      <td>l72Kt2u68aLuJVX9J8J0hQ</td>\n",
       "      <td>PLEltvCMh8u7FlxFf225og</td>\n",
       "      <td>Great old time ice cream shop from the '20s. R...</td>\n",
       "      <td>0</td>\n",
       "      <td>j5qC_y7mRRWNUqFdR8Z1_A</td>\n",
       "      <td>0</td>\n",
       "      <td>5</td>\n",
       "      <td>2014-10-04</td>\n",
       "      <td>review</td>\n",
       "      <td>0</td>\n",
       "      <td>[u'Food', u'Ice Cream &amp; Frozen Yogurt']</td>\n",
       "      <td>AZ</td>\n",
       "      <td>Avondale</td>\n",
       "      <td>1</td>\n",
       "    </tr>\n",
       "    <tr>\n",
       "      <th>4</th>\n",
       "      <td>Iqw0kVKBtgo4Vn8AtG2kRA</td>\n",
       "      <td>BuwZ9XJgenH9mET_zCCbrA</td>\n",
       "      <td>This is a small family owned business so I'll ...</td>\n",
       "      <td>0</td>\n",
       "      <td>j5qC_y7mRRWNUqFdR8Z1_A</td>\n",
       "      <td>0</td>\n",
       "      <td>3</td>\n",
       "      <td>2014-11-16</td>\n",
       "      <td>review</td>\n",
       "      <td>0</td>\n",
       "      <td>[u'Food', u'Ice Cream &amp; Frozen Yogurt']</td>\n",
       "      <td>AZ</td>\n",
       "      <td>Avondale</td>\n",
       "      <td>1</td>\n",
       "    </tr>\n",
       "  </tbody>\n",
       "</table>\n",
       "</div>"
      ],
      "text/plain": [
       "                  user_id               review_id  \\\n",
       "0  cTT7cTG6SuVOc1ib6gwhHA  uPez-RSvBOxO1AWTGMtB7g   \n",
       "1  kcgYbndUk0e07YusRAcTrg  Q6L6oNvb60GMqdN5xxSRiw   \n",
       "2  vrIuFfhpUyOA_m9goXVWxw  yVV5W3cDRYow2nEPQDN-EQ   \n",
       "3  l72Kt2u68aLuJVX9J8J0hQ  PLEltvCMh8u7FlxFf225og   \n",
       "4  Iqw0kVKBtgo4Vn8AtG2kRA  BuwZ9XJgenH9mET_zCCbrA   \n",
       "\n",
       "                                                text  votes.cool  \\\n",
       "0  3.5 Stars\\n\\nEvery clerk there is friendly.  N...           2   \n",
       "1  Simple and small, haven't tried their water or...           0   \n",
       "2  Ashley is really awesome she is always with a ...           0   \n",
       "3  Great old time ice cream shop from the '20s. R...           0   \n",
       "4  This is a small family owned business so I'll ...           0   \n",
       "\n",
       "              business_id  votes.funny  stars        date    type  \\\n",
       "0  j5qC_y7mRRWNUqFdR8Z1_A            1      3  2013-10-13  review   \n",
       "1  j5qC_y7mRRWNUqFdR8Z1_A            0      3  2014-07-29  review   \n",
       "2  j5qC_y7mRRWNUqFdR8Z1_A            1      5  2014-10-01  review   \n",
       "3  j5qC_y7mRRWNUqFdR8Z1_A            0      5  2014-10-04  review   \n",
       "4  j5qC_y7mRRWNUqFdR8Z1_A            0      3  2014-11-16  review   \n",
       "\n",
       "   votes.useful                               categories state      city  \\\n",
       "0             3  [u'Food', u'Ice Cream & Frozen Yogurt']    AZ  Avondale   \n",
       "1             0  [u'Food', u'Ice Cream & Frozen Yogurt']    AZ  Avondale   \n",
       "2             0  [u'Food', u'Ice Cream & Frozen Yogurt']    AZ  Avondale   \n",
       "3             0  [u'Food', u'Ice Cream & Frozen Yogurt']    AZ  Avondale   \n",
       "4             0  [u'Food', u'Ice Cream & Frozen Yogurt']    AZ  Avondale   \n",
       "\n",
       "   restaurant  \n",
       "0           1  \n",
       "1           1  \n",
       "2           1  \n",
       "3           1  \n",
       "4           1  "
      ]
     },
     "execution_count": 4,
     "metadata": {},
     "output_type": "execute_result"
    }
   ],
   "source": [
    "cat = reviews_full['categories']\n",
    "rest = []\n",
    "\n",
    "for x in range(len(cat)):\n",
    "    if \"Restaurants\" in cat[x]:\n",
    "        rest.append(1)\n",
    "    elif \"Food\" in cat[x]:\n",
    "        rest.append(1)\n",
    "    else:\n",
    "        rest.append(0)\n",
    "\n",
    "reviews_full['restaurant'] = rest\n",
    "reviews_full = reviews_full[reviews_full['restaurant'] == 1]\n",
    "reviews_full = reviews_full.reset_index(drop=True)\n",
    "\n",
    "reviews = reviews_full[reviews_full['city'] == 'Avondale']\n",
    "reviews = reviews.reset_index(drop=True)\n",
    "reviews.to_csv(\"yelp_dataset_reviews_Avondale\")\n",
    "reviews.head()"
   ]
  },
  {
   "cell_type": "code",
   "execution_count": 5,
   "metadata": {
    "collapsed": false
   },
   "outputs": [
    {
     "name": "stdout",
     "output_type": "stream",
     "text": [
      "Value counts for each star so we can get a general sense of distribution:\n",
      "5    1260\n",
      "4    1097\n",
      "3     488\n",
      "1     393\n",
      "2     322\n",
      "dtype: int64\n"
     ]
    },
    {
     "data": {
      "text/plain": [
       "<matplotlib.axes._subplots.AxesSubplot at 0x1a430978>"
      ]
     },
     "execution_count": 5,
     "metadata": {},
     "output_type": "execute_result"
    },
    {
     "data": {
      "image/png": "[encoded data removed]",
      "text/plain": [
       "<matplotlib.figure.Figure at 0x555d5080>"
      ]
     },
     "metadata": {},
     "output_type": "display_data"
    }
   ],
   "source": [
    "text = reviews['text']\n",
    "stars = reviews['stars']\n",
    "\n",
    "print \"Value counts for each star so we can get a general sense of distribution:\"\n",
    "print stars.value_counts()\n",
    "sns.set_style('darkgrid')\n",
    "plt.figure(figsize=(12,6))\n",
    "stars.hist(color='red', alpha=0.5, bins = 30)"
   ]
  },
  {
   "cell_type": "markdown",
   "metadata": {},
   "source": [
    "###Create features based on text data:\n",
    "- Text length\n",
    "- Sentiment score based on bag of good & bad words"
   ]
  },
  {
   "cell_type": "code",
   "execution_count": 7,
   "metadata": {
    "collapsed": false
   },
   "outputs": [
    {
     "name": "stdout",
     "output_type": "stream",
     "text": [
      "POSITIVE WORDS: ['', '', 'a+', 'abound', 'abounds', 'abundance', 'abundant', 'accessable', 'accessible', 'acclaim', 'acclaimed', 'acclamation', 'accolade', 'accolades', 'accommodative', 'accomodative', 'accomplish', 'accomplished', 'accomplishment', 'accomplishments']\n",
      "NEGATIVE WORDS: ['', '', '2-faced', '2-faces', 'abnormal', 'abolish', 'abominable', 'abominably', 'abominate', 'abomination', 'abort', 'aborted', 'aborts', 'abrade', 'abrasive', 'abrupt', 'abruptly', 'abscond', 'absence', 'absent-minded']\n"
     ]
    }
   ],
   "source": [
    "## Create features based on the text.\n",
    "## First, append text_length to data frame which signifies the length of the review text.\n",
    "## Download list of positive / negative from here: http://www.cs.uic.edu/~liub/FBS/sentiment-analysis.html\n",
    "\n",
    "text_length = []\n",
    "for x in range(len(reviews['text'])):\n",
    "    text_length.append(len(text[x]))\n",
    "\n",
    "reviews['text_length'] = text_length\n",
    "\n",
    "positives = open('data/positive-words.txt').read()\n",
    "negatives = open('data/negative-words.txt').read()\n",
    "pos_word_list = positives.split('\\n')\n",
    "neg_word_list = negatives.split('\\n')\n",
    "print \"POSITIVE WORDS: {}\".format(pos_word_list[:20])\n",
    "print \"NEGATIVE WORDS: {}\".format(neg_word_list[:20])"
   ]
  },
  {
   "cell_type": "markdown",
   "metadata": {},
   "source": [
    "###Define two functions:\n",
    "- review_to_wordlist() to change review text into a list of words\n",
    "- word_count() to count the number of words in a given list that are contained in another list, e.g. number of positive words in a given sentence"
   ]
  },
  {
   "cell_type": "code",
   "execution_count": 8,
   "metadata": {
    "collapsed": true
   },
   "outputs": [],
   "source": [
    "def review_to_wordlist(review, remove_stopwords=False):\n",
    "    # Function to convert a document to a sequence of words,\n",
    "    # optionally removing stop words.  Returns a list of words.\n",
    "\n",
    "    review_text = review   \n",
    "    \n",
    "    # 1. Remove non-letters\n",
    "    review_text = re.sub(\"[^a-zA-Z]\",\" \", review_text)\n",
    "\n",
    "    # 2. Convert words to lower case and split them\n",
    "    words = review_text.lower().split()\n",
    "\n",
    "    # 4. Optionally remove stop words (false by default)\n",
    "    if remove_stopwords:\n",
    "        stops = set(stopwords.words(\"english\"))\n",
    "        words = [w for w in words if not w in stops]\n",
    "\n",
    "    # 5. Return a list of words\n",
    "    return(words)\n",
    "\n",
    "def word_count(sentence, word_list):\n",
    "    count = 0\n",
    "    for x in review_to_wordlist(sentence):\n",
    "        if x in word_list:\n",
    "            count += 1\n",
    "    \n",
    "    return count"
   ]
  },
  {
   "cell_type": "code",
   "execution_count": 9,
   "metadata": {
    "collapsed": false
   },
   "outputs": [
    {
     "name": "stdout",
     "output_type": "stream",
     "text": [
      "Scoring text #0\n",
      "Scoring text #1000\n",
      "Scoring text #2000\n",
      "Scoring text #3000\n",
      "Wall time: 29 s\n"
     ]
    }
   ],
   "source": [
    "%%time\n",
    "\n",
    "## Use positive and negative words to give each piece of a text a sentiment score. The sentiment score ranges from\n",
    "## -1 (all negative words) to 1 (all positive words).\n",
    "\n",
    "sentiment = []\n",
    "pos_neg_ratio = []\n",
    "count = 0\n",
    "\n",
    "for x in text:\n",
    "    positive = word_count(x, pos_word_list)\n",
    "    negative = word_count(x, neg_word_list)\n",
    "    if (negative > 0):\n",
    "        ratio = float(positive)/negative\n",
    "    else:\n",
    "        ratio = positive\n",
    "    \n",
    "    if ((positive + negative) == 0):\n",
    "        sent = 1\n",
    "    else:\n",
    "        sent = ((positive-negative)/(float(positive)+negative))+1\n",
    "        \n",
    "    sentiment.append(sent)\n",
    "    pos_neg_ratio.append(ratio)\n",
    "    if count % 1000 == 0:\n",
    "        print \"Scoring text #{}\".format(count)\n",
    "    count += 1\n",
    "\n",
    "reviews['sentiment'] = sentiment\n",
    "reviews['pos_neg_ratio'] = pos_neg_ratio\n",
    "reviews.head()"
   ]
  },
  {
   "cell_type": "code",
   "execution_count": 10,
   "metadata": {
    "collapsed": true
   },
   "outputs": [],
   "source": [
    "feature_list = ['text_length', 'pos_neg_ratio', 'sentiment']\n",
    "features = reviews[feature_list]\n",
    "stars = reviews['stars']"
   ]
  },
  {
   "cell_type": "markdown",
   "metadata": {},
   "source": [
    "##Train / test based on text length, positive/negative ratio and sentiment score"
   ]
  },
  {
   "cell_type": "code",
   "execution_count": 11,
   "metadata": {
    "collapsed": false,
    "scrolled": true
   },
   "outputs": [
    {
     "name": "stdout",
     "output_type": "stream",
     "text": [
      "Extra Trees score: 0.359550561798\n",
      "Multinomial Naive Bayes score: 0.424157303371\n",
      "SVC Score: 0.34925093633\n",
      "Ada Boosted Decision Tree Score: 0.420411985019\n",
      "Logistic Regression Score: 0.453183520599\n"
     ]
    }
   ],
   "source": [
    "x_train, x_test, y_train, y_test = cross_validation.train_test_split(features, stars, test_size=0.3, random_state=12)\n",
    "extra = ExtraTreesClassifier()\n",
    "mnbayes = MultinomialNB()\n",
    "svc = SVC(C=1, probability=True)\n",
    "adaboost = AdaBoostClassifier()\n",
    "logreg = LogisticRegression(C=1)\n",
    "\n",
    "extra.fit(x_train, y_train)\n",
    "mnbayes.fit(x_train, y_train)\n",
    "svc.fit(x_train, y_train)\n",
    "adaboost.fit(x_train, y_train)\n",
    "logreg.fit(x_train, y_train)\n",
    "\n",
    "print \"Extra Trees score: {}\".format(extra.score(x_test, y_test))\n",
    "print \"Multinomial Naive Bayes score: {}\".format(mnbayes.score(x_test, y_test))\n",
    "print \"SVC Score: {}\".format(svc.score(x_test, y_test))\n",
    "print \"Ada Boosted Decision Tree Score: {}\".format(adaboost.score(x_test, y_test))\n",
    "print \"Logistic Regression Score: {}\".format(logreg.score(x_test, y_test))"
   ]
  },
  {
   "cell_type": "markdown",
   "metadata": {},
   "source": [
    "##Classifiers did not score well on 1-5 scale of stars, so we will adjust to binary prediction by grouping 4 & 5 star reviews and 1-3 star reviews as \"good\" and \"bad\"."
   ]
  },
  {
   "cell_type": "code",
   "execution_count": 12,
   "metadata": {
    "collapsed": true
   },
   "outputs": [],
   "source": [
    "star_threshold = 4\n",
    "\n",
    "reviews['good'] = (reviews['stars'] >= star_threshold)\n",
    "good = reviews['good']\n",
    "good = good.map({True: 1, False: 0})"
   ]
  },
  {
   "cell_type": "markdown",
   "metadata": {},
   "source": [
    "###Define functions for:\n",
    "- Plotting ROC curve\n",
    "- Fitting 5 models (Extra Forests, MN Bayes, SVM SVC, AdaBoosted Decision Tree and Logistic Regression)"
   ]
  },
  {
   "cell_type": "code",
   "execution_count": 13,
   "metadata": {
    "collapsed": true
   },
   "outputs": [],
   "source": [
    "def plot_roc_curve(target_test, target_predicted_proba, this_label):\n",
    "    fpr, tpr, thresholds = roc_curve(target_test, target_predicted_proba[:, 1])\n",
    "    \n",
    "    roc_auc = auc(fpr, tpr)\n",
    "    # Plot ROC curve\n",
    "    plt.plot(fpr, tpr, label= this_label + ', ROC Area = %0.3f' % roc_auc)\n",
    "    plt.plot([0, 1], [0, 1], 'k--')  # random predictions curve\n",
    "    plt.xlim([0.0, 1.0])\n",
    "    plt.ylim([0.0, 1.0])\n",
    "    plt.xlabel('False Positive Rate or (1 - Specifity)')\n",
    "    plt.ylabel('True Positive Rate or (Sensitivity)')\n",
    "    plt.title('ROC')\n",
    "    plt.legend(loc=\"lower right\")\n",
    "\n",
    "## Define a function to train & test 5 different classifiers, output scores and AUC\n",
    "\n",
    "def test_classifiers(x_train, x_test, y_train, y_test, features, target):\n",
    "\n",
    "    extra.fit(x_train, y_train)\n",
    "    mnbayes.fit(x_train, y_train)\n",
    "    svc.fit(x_train, y_train)\n",
    "    adaboost.fit(x_train, y_train)\n",
    "    logreg.fit(x_train, y_train)\n",
    "\n",
    "    print \"Extra Forest score: {}\".format(extra.score(x_test, y_test))\n",
    "    print \"Multinomial Naive Bayes score: {}\".format(mnbayes.score(x_test, y_test))\n",
    "    print \"SVC Score: {}\".format(svc.score(x_test, y_test))\n",
    "    print \"Ada Boosted Decision Tree Score: {}\".format(adaboost.score(x_test, y_test))\n",
    "    print \"Logistic Regression Score: {}\\n\".format(logreg.score(x_test, y_test))\n",
    "\n",
    "    print \"Extra Forest AUC: {}\".format(cross_val_score(extra, features, good, cv=3, scoring='roc_auc').mean())\n",
    "    print \"Multinomial Naive Bayes AUC: {}\".format(cross_val_score(mnbayes, features, good, cv=3, scoring='roc_auc').mean())\n",
    "    print \"SVC AUC: {}\".format(cross_val_score(svc, features, good, cv=3, scoring='roc_auc').mean())\n",
    "    print \"Ada Boosted Decision Tree AUC: {}\".format(cross_val_score(adaboost, features, good, cv=3, scoring='roc_auc').mean())\n",
    "    print \"Logistic Regression AUC: {}\".format(cross_val_score(logreg, features, good, cv=3, scoring='roc_auc').mean())\n",
    "\n",
    "    plot_roc_curve(y_test, extra.predict_proba(x_test), \"Extra Trees\")\n",
    "    plot_roc_curve(y_test, mnbayes.predict_proba(x_test), \"MN Bayes\")\n",
    "    plot_roc_curve(y_test, svc.predict_proba(x_test), \"SVM SVC\")\n",
    "    plot_roc_curve(y_test, adaboost.predict_proba(x_test), \"Ada Boost\")\n",
    "    plot_roc_curve(y_test, logreg.predict_proba(x_test), \"Logistic Regression\")"
   ]
  },
  {
   "cell_type": "code",
   "execution_count": 14,
   "metadata": {
    "collapsed": false
   },
   "outputs": [
    {
     "name": "stdout",
     "output_type": "stream",
     "text": [
      "Extra Forest score: 0.705056179775\n",
      "Multinomial Naive Bayes score: 0.756554307116\n",
      "SVC Score: 0.698501872659\n",
      "Ada Boosted Decision Tree Score: 0.772471910112\n",
      "Logistic Regression Score: 0.7734082397\n",
      "\n",
      "Extra Forest AUC: 0.707552980916\n",
      "Multinomial Naive Bayes AUC: 0.785258161787\n",
      "SVC AUC: 0.694393418732\n",
      "Ada Boosted Decision Tree AUC: 0.801001525025\n",
      "Logistic Regression AUC: 0.812701576286\n"
     ]
    },
    {
     "data": {
      "image/png": "[encoded data removed]",
      "text/plain": [
       "<matplotlib.figure.Figure at 0x1a4639b0>"
      ]
     },
     "metadata": {},
     "output_type": "display_data"
    }
   ],
   "source": [
    "x_train, x_test, y_train, y_test = cross_validation.train_test_split(features, good, test_size=0.3, random_state=12)\n",
    "\n",
    "test_classifiers(x_train, x_test, y_train, y_test, features, good)"
   ]
  },
  {
   "cell_type": "markdown",
   "metadata": {},
   "source": [
    "### After looking at list of common words, \"service\" appears in about 1/3 of reviews. Thus, add a metric labeled \"service sentiment\" that gauges sentiment around the word service, when it appears. Also add a metric that measures how much of a review consists of stop words."
   ]
  },
  {
   "cell_type": "code",
   "execution_count": 18,
   "metadata": {
    "collapsed": false,
    "scrolled": true
   },
   "outputs": [
    {
     "data": {
      "text/html": [
       "<div>\n",
       "<table border=\"1\" class=\"dataframe\">\n",
       "  <thead>\n",
       "    <tr style=\"text-align: right;\">\n",
       "      <th></th>\n",
       "      <th>text_length</th>\n",
       "      <th>pos_neg_ratio</th>\n",
       "      <th>sentiment</th>\n",
       "      <th>service_sentiment</th>\n",
       "      <th>stop_word_ratio</th>\n",
       "    </tr>\n",
       "  </thead>\n",
       "  <tbody>\n",
       "    <tr>\n",
       "      <th>0</th>\n",
       "      <td>616</td>\n",
       "      <td>4.000000</td>\n",
       "      <td>2.0</td>\n",
       "      <td>2</td>\n",
       "      <td>0.450450</td>\n",
       "    </tr>\n",
       "    <tr>\n",
       "      <th>1</th>\n",
       "      <td>722</td>\n",
       "      <td>5.000000</td>\n",
       "      <td>2.0</td>\n",
       "      <td>1</td>\n",
       "      <td>0.479167</td>\n",
       "    </tr>\n",
       "    <tr>\n",
       "      <th>2</th>\n",
       "      <td>196</td>\n",
       "      <td>6.000000</td>\n",
       "      <td>2.0</td>\n",
       "      <td>1</td>\n",
       "      <td>0.540541</td>\n",
       "    </tr>\n",
       "    <tr>\n",
       "      <th>3</th>\n",
       "      <td>278</td>\n",
       "      <td>3.000000</td>\n",
       "      <td>1.5</td>\n",
       "      <td>1</td>\n",
       "      <td>0.442308</td>\n",
       "    </tr>\n",
       "    <tr>\n",
       "      <th>4</th>\n",
       "      <td>1167</td>\n",
       "      <td>0.428571</td>\n",
       "      <td>0.6</td>\n",
       "      <td>1</td>\n",
       "      <td>0.538462</td>\n",
       "    </tr>\n",
       "  </tbody>\n",
       "</table>\n",
       "</div>"
      ],
      "text/plain": [
       "   text_length  pos_neg_ratio  sentiment  service_sentiment  stop_word_ratio\n",
       "0          616       4.000000        2.0                  2         0.450450\n",
       "1          722       5.000000        2.0                  1         0.479167\n",
       "2          196       6.000000        2.0                  1         0.540541\n",
       "3          278       3.000000        1.5                  1         0.442308\n",
       "4         1167       0.428571        0.6                  1         0.538462"
      ]
     },
     "execution_count": 18,
     "metadata": {},
     "output_type": "execute_result"
    }
   ],
   "source": [
    "service = []\n",
    "stops = []\n",
    "stop_words = set(stopwords.words(\"english\"))\n",
    "\n",
    "for i in range(len(text)):\n",
    "    x = review_to_wordlist(text[i])\n",
    "    if 'service' in x:\n",
    "        service_loc = x.index('service')\n",
    "        near_service = x[int(service_loc-6):int(service_loc+6)]\n",
    "        pos_service = word_count(' , '.join(near_service).strip(), pos_word_list)\n",
    "        neg_service = word_count(' , '.join(near_service).strip(), neg_word_list)\n",
    "        if pos_service > 0 or neg_service > 0:\n",
    "            service.append((float((pos_service-neg_service))/(pos_service+neg_service))+1)\n",
    "        else:\n",
    "            service.append(1)\n",
    "    else:\n",
    "        service.append(1)\n",
    "    stops.append(float(word_count(text[i], stop_words))/len(x))\n",
    "\n",
    "reviews['service_sentiment'] = service\n",
    "reviews['stop_word_ratio'] = stops\n",
    "\n",
    "feature_list = ['text_length', 'pos_neg_ratio', 'sentiment', 'service_sentiment', 'stop_word_ratio']\n",
    "features = reviews[feature_list]\n",
    "stars = reviews['stars']\n",
    "features.head()"
   ]
  },
  {
   "cell_type": "code",
   "execution_count": 19,
   "metadata": {
    "collapsed": false
   },
   "outputs": [
    {
     "name": "stdout",
     "output_type": "stream",
     "text": [
      "Extra Forest score: 0.719101123596\n",
      "Multinomial Naive Bayes score: 0.75\n",
      "SVC Score: 0.705056179775\n",
      "Ada Boosted Decision Tree Score: 0.780898876404\n",
      "Logistic Regression Score: 0.783707865169\n",
      "\n",
      "Extra Forest AUC: 0.742294725362\n",
      "Multinomial Naive Bayes AUC: 0.782075082602\n",
      "SVC AUC: 0.698771800611\n",
      "Ada Boosted Decision Tree AUC: 0.801966486193\n",
      "Logistic Regression AUC: 0.820930069089\n"
     ]
    },
    {
     "data": {
      "image/png": "[encoded data removed]",
      "text/plain": [
       "<matplotlib.figure.Figure at 0x37224da0>"
      ]
     },
     "metadata": {},
     "output_type": "display_data"
    }
   ],
   "source": [
    "x_train, x_test, y_train, y_test = cross_validation.train_test_split(features, good, test_size=0.3, random_state=12)\n",
    "\n",
    "test_classifiers(x_train, x_test, y_train, y_test, features, good)"
   ]
  },
  {
   "cell_type": "markdown",
   "metadata": {},
   "source": [
    "###Add a sentiment score for common vs. uncommon words, using min_df and max_df in CountVectorizer"
   ]
  },
  {
   "cell_type": "code",
   "execution_count": 21,
   "metadata": {
    "collapsed": false
   },
   "outputs": [
    {
     "name": "stderr",
     "output_type": "stream",
     "text": [
      "C:\\Users\\samchu\\AppData\\Local\\Continuum\\Anaconda\\lib\\site-packages\\IPython\\kernel\\__main__.py:17: UnicodeWarning: Unicode equal comparison failed to convert both arguments to Unicode - interpreting them as being unequal\n",
      "C:\\Users\\samchu\\AppData\\Local\\Continuum\\Anaconda\\lib\\site-packages\\IPython\\kernel\\__main__.py:19: UnicodeWarning: Unicode equal comparison failed to convert both arguments to Unicode - interpreting them as being unequal\n"
     ]
    },
    {
     "name": "stdout",
     "output_type": "stream",
     "text": [
      "1225\n",
      "10944\n"
     ]
    }
   ],
   "source": [
    "vect = CountVectorizer(decode_error = 'ignore', stop_words = 'english', min_df=0.005)\n",
    "vect.fit(text)\n",
    "text_dtm = vect.transform(text)\n",
    "text_array = text_dtm.toarray()\n",
    "\n",
    "count_vocab = np.sum(text_array, axis=0)\n",
    "text_freq = vect.get_feature_names()\n",
    "\n",
    "vect_uncommon = CountVectorizer(decode_error = 'ignore', stop_words = 'english', max_df=0.995)\n",
    "vect_uncommon.fit(text)\n",
    "text_unfreq = vect_uncommon.get_feature_names()\n",
    "\n",
    "print len(text_freq)\n",
    "print len(text_unfreq)\n",
    "\n",
    "freq_pos = [w for w in pos_word_list if w in text_freq]\n",
    "freq_neg = [w for w in neg_word_list if w in text_freq]\n",
    "unfreq_pos = [w for w in pos_word_list if w in text_unfreq]\n",
    "unfreq_neg = [w for w in neg_word_list if w in text_unfreq]"
   ]
  },
  {
   "cell_type": "code",
   "execution_count": 23,
   "metadata": {
    "collapsed": false
   },
   "outputs": [
    {
     "name": "stdout",
     "output_type": "stream",
     "text": [
      "Scoring text #0\n",
      "Scoring text #1000\n",
      "Scoring text #2000\n",
      "Scoring text #3000\n",
      "Wall time: 7.69 s\n"
     ]
    }
   ],
   "source": [
    "%%time\n",
    "freq_sentiment = []\n",
    "unfreq_sentiment = []\n",
    "count = 0\n",
    "\n",
    "for x in text:\n",
    "    common_positive = word_count(x, freq_pos)\n",
    "    common_negative = word_count(x, freq_neg)\n",
    "    uncommon_positive = word_count(x, unfreq_pos)\n",
    "    uncommon_negative = word_count(x, unfreq_neg)\n",
    "    \n",
    "    if ((common_positive + common_negative) == 0):\n",
    "        freq_sent = 1\n",
    "    else:\n",
    "        freq_sent = ((common_positive - common_negative)/(float(common_positive)+common_negative))+1\n",
    "    \n",
    "    if ((uncommon_positive + uncommon_negative) == 0):\n",
    "        unfreq_sent = 1\n",
    "    else:\n",
    "        unfreq_sent = ((uncommon_positive - uncommon_negative)/(float(uncommon_positive)+uncommon_negative))+1\n",
    "    \n",
    "    freq_sentiment.append(freq_sent)\n",
    "    unfreq_sentiment.append(unfreq_sent)\n",
    "    if count % 1000 == 0:\n",
    "        print \"Scoring text #{}\".format(count)\n",
    "    count += 1\n",
    "\n",
    "reviews['freq_sentiment'] = freq_sentiment\n",
    "reviews['unfreq_sentiment'] = unfreq_sentiment"
   ]
  },
  {
   "cell_type": "markdown",
   "metadata": {},
   "source": [
    "###Feature Set:"
   ]
  },
  {
   "cell_type": "code",
   "execution_count": 24,
   "metadata": {
    "collapsed": false
   },
   "outputs": [
    {
     "data": {
      "text/html": [
       "<div>\n",
       "<table border=\"1\" class=\"dataframe\">\n",
       "  <thead>\n",
       "    <tr style=\"text-align: right;\">\n",
       "      <th></th>\n",
       "      <th>text_length</th>\n",
       "      <th>pos_neg_ratio</th>\n",
       "      <th>sentiment</th>\n",
       "      <th>service_sentiment</th>\n",
       "      <th>stop_word_ratio</th>\n",
       "      <th>freq_sentiment</th>\n",
       "      <th>unfreq_sentiment</th>\n",
       "    </tr>\n",
       "  </thead>\n",
       "  <tbody>\n",
       "    <tr>\n",
       "      <th>0</th>\n",
       "      <td>616</td>\n",
       "      <td>4.000000</td>\n",
       "      <td>2.0</td>\n",
       "      <td>2</td>\n",
       "      <td>0.450450</td>\n",
       "      <td>2.000000</td>\n",
       "      <td>2.000000</td>\n",
       "    </tr>\n",
       "    <tr>\n",
       "      <th>1</th>\n",
       "      <td>722</td>\n",
       "      <td>5.000000</td>\n",
       "      <td>2.0</td>\n",
       "      <td>1</td>\n",
       "      <td>0.479167</td>\n",
       "      <td>2.000000</td>\n",
       "      <td>2.000000</td>\n",
       "    </tr>\n",
       "    <tr>\n",
       "      <th>2</th>\n",
       "      <td>196</td>\n",
       "      <td>6.000000</td>\n",
       "      <td>2.0</td>\n",
       "      <td>1</td>\n",
       "      <td>0.540541</td>\n",
       "      <td>2.000000</td>\n",
       "      <td>2.000000</td>\n",
       "    </tr>\n",
       "    <tr>\n",
       "      <th>3</th>\n",
       "      <td>278</td>\n",
       "      <td>3.000000</td>\n",
       "      <td>1.5</td>\n",
       "      <td>1</td>\n",
       "      <td>0.442308</td>\n",
       "      <td>1.800000</td>\n",
       "      <td>1.500000</td>\n",
       "    </tr>\n",
       "    <tr>\n",
       "      <th>4</th>\n",
       "      <td>1167</td>\n",
       "      <td>0.428571</td>\n",
       "      <td>0.6</td>\n",
       "      <td>1</td>\n",
       "      <td>0.538462</td>\n",
       "      <td>0.666667</td>\n",
       "      <td>0.444444</td>\n",
       "    </tr>\n",
       "  </tbody>\n",
       "</table>\n",
       "</div>"
      ],
      "text/plain": [
       "   text_length  pos_neg_ratio  sentiment  service_sentiment  stop_word_ratio  \\\n",
       "0          616       4.000000        2.0                  2         0.450450   \n",
       "1          722       5.000000        2.0                  1         0.479167   \n",
       "2          196       6.000000        2.0                  1         0.540541   \n",
       "3          278       3.000000        1.5                  1         0.442308   \n",
       "4         1167       0.428571        0.6                  1         0.538462   \n",
       "\n",
       "   freq_sentiment  unfreq_sentiment  \n",
       "0        2.000000          2.000000  \n",
       "1        2.000000          2.000000  \n",
       "2        2.000000          2.000000  \n",
       "3        1.800000          1.500000  \n",
       "4        0.666667          0.444444  "
      ]
     },
     "execution_count": 24,
     "metadata": {},
     "output_type": "execute_result"
    }
   ],
   "source": [
    "feature_list = ['text_length', 'pos_neg_ratio', 'sentiment', 'service_sentiment', \n",
    "                'stop_word_ratio', 'freq_sentiment', 'unfreq_sentiment']\n",
    "\n",
    "features = reviews[feature_list]\n",
    "stars = reviews['stars']\n",
    "features.head()"
   ]
  },
  {
   "cell_type": "code",
   "execution_count": 25,
   "metadata": {
    "collapsed": false
   },
   "outputs": [
    {
     "name": "stdout",
     "output_type": "stream",
     "text": [
      "Extra Forest score: 0.737827715356\n",
      "Multinomial Naive Bayes score: 0.748127340824\n",
      "SVC Score: 0.716292134831\n",
      "Ada Boosted Decision Tree Score: 0.776217228464\n",
      "Logistic Regression Score: 0.779962546816\n",
      "\n",
      "Extra Forest AUC: 0.751936425421\n",
      "Multinomial Naive Bayes AUC: 0.778241798598\n",
      "SVC AUC: 0.70946123775\n",
      "Ada Boosted Decision Tree AUC: 0.807252274844\n",
      "Logistic Regression AUC: 0.821118435604\n"
     ]
    },
    {
     "data": {
      "image/png": "[encoded data removed]",
      "text/plain": [
       "<matplotlib.figure.Figure at 0x2fbd84e0>"
      ]
     },
     "metadata": {},
     "output_type": "display_data"
    }
   ],
   "source": [
    "x_train, x_test, y_train, y_test = cross_validation.train_test_split(features, good, test_size=0.3, random_state=12)\n",
    "\n",
    "test_classifiers(x_train, x_test, y_train, y_test, features, good)"
   ]
  },
  {
   "cell_type": "markdown",
   "metadata": {},
   "source": [
    "###Additional features based on high level text characteristics yielded marginally better results. Now we will vectorize the text using Tfidf and use this vectorization as feature set:\n",
    "- Lemmatize the text\n",
    "- Remove stop words\n",
    "- Remove symbols / non-letters"
   ]
  },
  {
   "cell_type": "code",
   "execution_count": 26,
   "metadata": {
    "collapsed": false
   },
   "outputs": [
    {
     "name": "stdout",
     "output_type": "stream",
     "text": [
      "Cleaning text #1000...\n",
      "Cleaning text #2000...\n",
      "Cleaning text #3000...\n",
      "Wall time: 7min 34s\n"
     ]
    },
    {
     "name": "stderr",
     "output_type": "stream",
     "text": [
      "C:\\Users\\samchu\\AppData\\Local\\Continuum\\Anaconda\\lib\\site-packages\\IPython\\kernel\\__main__.py:20: SettingWithCopyWarning: \n",
      "A value is trying to be set on a copy of a slice from a DataFrame\n",
      "\n",
      "See the the caveats in the documentation: http://pandas.pydata.org/pandas-docs/stable/indexing.html#indexing-view-versus-copy\n"
     ]
    }
   ],
   "source": [
    "%%time\n",
    "\n",
    "stop_words = set(stopwords.words(\"english\"))\n",
    "count = 0\n",
    "text_clean = text\n",
    "lemm = WordNetLemmatizer()\n",
    "\n",
    "## Before cleaning the text, we'll vectorize the uncleaned text to see how the difference it makes.\n",
    "vect = CountVectorizer(decode_error = 'ignore')\n",
    "vect.fit(text_clean)\n",
    "dirty_text_length = len(vect.vocabulary_)\n",
    "\n",
    "for x in range(len(text_clean)):\n",
    "    count +=1\n",
    "    if count % 1000 == 0:\n",
    "        print \"Cleaning text #{}...\".format(count)\n",
    "    w = text[x]\n",
    "    w = re.sub(\"[^a-zA-Z]\",\" \", w)    # gets rid of non-letters and substitutes it with a space\n",
    "    w = word_tokenize(w)    # Tokenizes the sentence, breaking it up into a list of words rather than one long string.\n",
    "    w = [lemm.lemmatize(z) for z in w if not z in stop_words]    # deletes stop words from the text, or words that don't add any meaning\n",
    "    text_clean[x] = w\n",
    "\n",
    "text_clean = [' , '.join(z).strip() for z in text_clean]"
   ]
  },
  {
   "cell_type": "code",
   "execution_count": 27,
   "metadata": {
    "collapsed": false
   },
   "outputs": [
    {
     "name": "stdout",
     "output_type": "stream",
     "text": [
      "Text without any edits had 11232 unique tokens.\n",
      "Text after removing stop words and lemmatizing, the text had 10159 unique tokens.\n",
      "Wall time: 894 ms\n"
     ]
    }
   ],
   "source": [
    "%%time\n",
    "\n",
    "vect = CountVectorizer(decode_error = 'ignore')\n",
    "vect.fit(text_clean)\n",
    "clean_text_length = len(vect.vocabulary_)\n",
    "print \"Text without any edits had {} unique tokens.\".format(dirty_text_length)\n",
    "print \"Text after removing stop words and lemmatizing, the text had {} unique tokens.\".format(clean_text_length)\n",
    "\n",
    "## Vectorize the text with sklearn's TfidfVectorizer... This weights each word depending on the Tf-idf importance.\n",
    "\n",
    "vect = TfidfVectorizer(stop_words='english', ngram_range = (1,1), decode_error = 'ignore')\n",
    "vect.fit(text_clean)\n",
    "\n",
    "## Map the vectorized text to an array and Pandas dataframe\n",
    "\n",
    "text_dtm = vect.transform(text_clean)\n",
    "text_array = text_dtm.toarray()\n",
    "text_df = pd.DataFrame(text_array, columns = vect.get_feature_names())"
   ]
  },
  {
   "cell_type": "code",
   "execution_count": 29,
   "metadata": {
    "collapsed": false
   },
   "outputs": [
    {
     "name": "stdout",
     "output_type": "stream",
     "text": [
      "Extra Forest score: 0.786516853933\n",
      "Multinomial Naive Bayes score: 0.723782771536\n",
      "SVC Score: 0.672284644195\n",
      "Ada Boosted Decision Tree Score: 0.814606741573\n",
      "Logistic Regression Score: 0.828651685393\n",
      "\n",
      "Extra Forest AUC: 0.801682589526\n",
      "Multinomial Naive Bayes AUC: 0.857522618363\n",
      "SVC AUC: 0.881061759872\n",
      "Ada Boosted Decision Tree AUC: 0.844788624324\n",
      "Logistic Regression AUC: 0.887655440687\n",
      "Wall time: 21min 52s\n"
     ]
    },
    {
     "data": {
      "image/png": "[encoded data removed]",
      "text/plain": [
       "<matplotlib.figure.Figure at 0x58f5ae48>"
      ]
     },
     "metadata": {},
     "output_type": "display_data"
    }
   ],
   "source": [
    "%%time\n",
    "x_train, x_test, y_train, y_test = cross_validation.train_test_split(text_array, good, test_size=0.3, random_state=12)\n",
    "\n",
    "test_classifiers(x_train, x_test, y_train, y_test, text_array, good)"
   ]
  }
 ],
 "metadata": {
  "kernelspec": {
   "display_name": "Python 2",
   "language": "python",
   "name": "python2"
  },
  "language_info": {
   "codemirror_mode": {
    "name": "ipython",
    "version": 2
   },
   "file_extension": ".py",
   "mimetype": "text/x-python",
   "name": "python",
   "nbconvert_exporter": "python",
   "pygments_lexer": "ipython2",
   "version": "2.7.10"
  }
 },
 "nbformat": 4,
 "nbformat_minor": 0
}
